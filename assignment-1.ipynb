{
 "cells": [
  {
   "cell_type": "code",
   "execution_count": 1,
   "metadata": {},
   "outputs": [],
   "source": [
    "import pandas as pd\n",
    "from sklearn.linear_model import LinearRegression\n",
    "from sklearn.linear_model import BayesianRidge\n",
    "pd.options.mode.chained_assignment = None  # default='warn'\n",
    "from mip import Model, xsum, maximize, BINARY"
   ]
  },
  {
   "cell_type": "markdown",
   "metadata": {},
   "source": [
    "## Build a model to create a metric for judging team based on team level information ##"
   ]
  },
  {
   "cell_type": "code",
   "execution_count": 2,
   "metadata": {},
   "outputs": [],
   "source": [
    "teams = pd.read_csv(\"teams.csv\")\n",
    "teams = teams[(teams.yearID >=1961) & (teams.yearID <= 2001)]"
   ]
  },
  {
   "cell_type": "markdown",
   "metadata": {},
   "source": [
    "## Extracting features for teams ##"
   ]
  },
  {
   "cell_type": "code",
   "execution_count": 3,
   "metadata": {},
   "outputs": [],
   "source": [
    "teams[\"BB\"] = teams[\"BB\"]/teams[\"G\"]\n",
    "teams[\"singles\"] = (teams[\"H\"] - teams[\"X2B\"] - teams[\"X3B\"] - teams[\"HR\"])/teams[\"G\"]\n",
    "teams[\"doubles\"] =  teams[\"X2B\"]/teams[\"G\"]\n",
    "teams[\"triples\"] = teams[\"X3B\"]/teams[\"G\"]\n",
    "teams[\"HR\"] = teams[\"HR\"]/teams[\"G\"]\n",
    "teams[\"R\"] = teams[\"R\"]/teams[\"G\"]"
   ]
  },
  {
   "cell_type": "code",
   "execution_count": 4,
   "metadata": {},
   "outputs": [
    {
     "data": {
      "text/plain": [
       "(1026, 52)"
      ]
     },
     "execution_count": 4,
     "metadata": {},
     "output_type": "execute_result"
    }
   ],
   "source": [
    "teams.shape"
   ]
  },
  {
   "cell_type": "markdown",
   "metadata": {},
   "source": [
    "## Model building ##"
   ]
  },
  {
   "cell_type": "code",
   "execution_count": 5,
   "metadata": {},
   "outputs": [
    {
     "data": {
      "text/plain": [
       "BayesianRidge()"
      ]
     },
     "execution_count": 5,
     "metadata": {},
     "output_type": "execute_result"
    }
   ],
   "source": [
    "team_features = teams[[\"BB\",\"singles\",\"doubles\",\"triples\",\"HR\"]]\n",
    "team_runs = teams[\"R\"]\n",
    "model = BayesianRidge()\n",
    "model.fit(team_features, team_runs)\n",
    "#reg = LinearRegression().fit(team_features, team_runs)\n",
    "#reg.score(team_features,team_runs)"
   ]
  },
  {
   "cell_type": "raw",
   "metadata": {},
   "source": [
    "Other possible models which can be built :\n",
    "\n",
    "randomforest : https://scikit-learn.org/stable/modules/generated/sklearn.ensemble.RandomForestRegressor.html\n",
    "Gradient boosting : https://scikit-learn.org/stable/modules/generated/sklearn.ensemble.GradientBoostingRegressor.html\n",
    "support vector machine : https://scikit-learn.org/stable/auto_examples/svm/plot_svm_regression.html\n",
    "kNN fit : https://scikit-learn.org/stable/modules/generated/sklearn.neighbors.KNeighborsRegressor.html"
   ]
  },
  {
   "cell_type": "raw",
   "metadata": {},
   "source": [
    "Instead of using batting average, or just number of HR,as a measure of picking players, we can use our fitted model to form a metric that relates more directly to run production.\n",
    "\n",
    "Specifically, to define a metric for player A, we imagine a team made up of players just like player A and use our fitted regression model to predict how many runs this team would produce "
   ]
  },
  {
   "cell_type": "raw",
   "metadata": {},
   "source": [
    "To define a player-specific metric, we have a bit more work to do. A challenge here is that we derived the metric for teams, based on team-level summary statistics. \n",
    "\n",
    "For example, the HR value that is entered into the equation is HR per game for the entire team "
   ]
  },
  {
   "cell_type": "raw",
   "metadata": {},
   "source": [
    "We compute the per-plate-appearance rates for players available in 2002 on data from 1997-2001. \n",
    "To avoid small sample artifacts, we filter players with less than 1000 plate appearances per year.\n",
    "\n",
    "Reference : https://rafalab.github.io/dsbook/linear-models.html#linear-regression-in-the-tidyverse"
   ]
  },
  {
   "cell_type": "code",
   "execution_count": 6,
   "metadata": {},
   "outputs": [],
   "source": [
    "batting=pd.read_csv(\"Batting.csv\")"
   ]
  },
  {
   "cell_type": "code",
   "execution_count": 7,
   "metadata": {},
   "outputs": [],
   "source": [
    "def extract_pa_per_game(df):\n",
    "    \n",
    "    pa_per_game = (df['AB'].sum() + df[\"BB\"].sum())/df[\"G\"].max()\n",
    "    \n",
    "    return pa_per_game\n"
   ]
  },
  {
   "cell_type": "code",
   "execution_count": 8,
   "metadata": {},
   "outputs": [],
   "source": [
    "pa_per_game=batting[batting.yearID ==2002].groupby('teamID').apply(extract_pa_per_game)\n",
    "average_pa_teamwise = pa_per_game.mean()"
   ]
  },
  {
   "cell_type": "code",
   "execution_count": 9,
   "metadata": {},
   "outputs": [
    {
     "data": {
      "text/plain": [
       "38.74656866970645"
      ]
     },
     "execution_count": 9,
     "metadata": {},
     "output_type": "execute_result"
    }
   ],
   "source": [
    "average_pa_teamwise"
   ]
  },
  {
   "cell_type": "code",
   "execution_count": 10,
   "metadata": {},
   "outputs": [],
   "source": [
    "batting[\"PA\"] = batting[\"AB\"] + batting[\"BB\"]\n",
    "batting[\"singles\"] = batting[\"H\"] - batting[\"X2B\"] - batting[\"X3B\"] - batting[\"HR\"]"
   ]
  },
  {
   "cell_type": "code",
   "execution_count": 11,
   "metadata": {},
   "outputs": [],
   "source": [
    "players = batting[(batting.yearID >= 1997) & (batting.yearID <=2001)].groupby('playerID').agg(PA_sum = (\"PA\",sum),HR_sum=(\"HR\",sum),BB_sum=(\"BB\",sum),singles_sum=(\"singles\",sum),doubles_sum=(\"X2B\",sum),triples_sum=(\"X3B\",sum),AB_sum=(\"AB\",sum),H_sum=(\"H\",sum))\n",
    "players[\"Average_PA\"] = players[\"PA_sum\"]/average_pa_teamwise\n",
    "players[\"HR\"] = players[\"HR_sum\"]/players[\"Average_PA\"]\n",
    "players[\"BB\"] = players[\"BB_sum\"]/players[\"Average_PA\"]\n",
    "players[\"singles\"] = players[\"singles_sum\"]/players[\"Average_PA\"]\n",
    "players[\"doubles\"] = players[\"doubles_sum\"]/players['Average_PA']\n",
    "players[\"triples\"] = players[\"triples_sum\"]/players[\"Average_PA\"]\n",
    "players[\"Average\"] = players[\"H_sum\"]/players[\"AB_sum\"]\n",
    "players = players[players.PA_sum >= 1000]"
   ]
  },
  {
   "cell_type": "code",
   "execution_count": 12,
   "metadata": {},
   "outputs": [
    {
     "data": {
      "text/html": [
       "<div>\n",
       "<style scoped>\n",
       "    .dataframe tbody tr th:only-of-type {\n",
       "        vertical-align: middle;\n",
       "    }\n",
       "\n",
       "    .dataframe tbody tr th {\n",
       "        vertical-align: top;\n",
       "    }\n",
       "\n",
       "    .dataframe thead th {\n",
       "        text-align: right;\n",
       "    }\n",
       "</style>\n",
       "<table border=\"1\" class=\"dataframe\">\n",
       "  <thead>\n",
       "    <tr style=\"text-align: right;\">\n",
       "      <th></th>\n",
       "      <th>PA_sum</th>\n",
       "      <th>HR_sum</th>\n",
       "      <th>BB_sum</th>\n",
       "      <th>singles_sum</th>\n",
       "      <th>doubles_sum</th>\n",
       "      <th>triples_sum</th>\n",
       "      <th>AB_sum</th>\n",
       "      <th>H_sum</th>\n",
       "      <th>Average_PA</th>\n",
       "      <th>HR</th>\n",
       "      <th>BB</th>\n",
       "      <th>singles</th>\n",
       "      <th>doubles</th>\n",
       "      <th>triples</th>\n",
       "      <th>Average</th>\n",
       "    </tr>\n",
       "    <tr>\n",
       "      <th>playerID</th>\n",
       "      <th></th>\n",
       "      <th></th>\n",
       "      <th></th>\n",
       "      <th></th>\n",
       "      <th></th>\n",
       "      <th></th>\n",
       "      <th></th>\n",
       "      <th></th>\n",
       "      <th></th>\n",
       "      <th></th>\n",
       "      <th></th>\n",
       "      <th></th>\n",
       "      <th></th>\n",
       "      <th></th>\n",
       "      <th></th>\n",
       "    </tr>\n",
       "  </thead>\n",
       "  <tbody>\n",
       "    <tr>\n",
       "      <th>abreubo01</th>\n",
       "      <td>2815</td>\n",
       "      <td>96</td>\n",
       "      <td>420</td>\n",
       "      <td>444</td>\n",
       "      <td>164</td>\n",
       "      <td>33</td>\n",
       "      <td>2395</td>\n",
       "      <td>737</td>\n",
       "      <td>72.651595</td>\n",
       "      <td>1.321375</td>\n",
       "      <td>5.781016</td>\n",
       "      <td>6.111359</td>\n",
       "      <td>2.257349</td>\n",
       "      <td>0.454223</td>\n",
       "      <td>0.307724</td>\n",
       "    </tr>\n",
       "    <tr>\n",
       "      <th>agbaybe01</th>\n",
       "      <td>1060</td>\n",
       "      <td>35</td>\n",
       "      <td>123</td>\n",
       "      <td>172</td>\n",
       "      <td>51</td>\n",
       "      <td>6</td>\n",
       "      <td>937</td>\n",
       "      <td>264</td>\n",
       "      <td>27.357261</td>\n",
       "      <td>1.279368</td>\n",
       "      <td>4.496064</td>\n",
       "      <td>6.287179</td>\n",
       "      <td>1.864222</td>\n",
       "      <td>0.219320</td>\n",
       "      <td>0.281750</td>\n",
       "    </tr>\n",
       "    <tr>\n",
       "      <th>alfoned01</th>\n",
       "      <td>3063</td>\n",
       "      <td>96</td>\n",
       "      <td>359</td>\n",
       "      <td>535</td>\n",
       "      <td>158</td>\n",
       "      <td>7</td>\n",
       "      <td>2704</td>\n",
       "      <td>796</td>\n",
       "      <td>79.052161</td>\n",
       "      <td>1.214388</td>\n",
       "      <td>4.541305</td>\n",
       "      <td>6.767683</td>\n",
       "      <td>1.998680</td>\n",
       "      <td>0.088549</td>\n",
       "      <td>0.294379</td>\n",
       "    </tr>\n",
       "    <tr>\n",
       "      <th>alicelu01</th>\n",
       "      <td>1954</td>\n",
       "      <td>24</td>\n",
       "      <td>216</td>\n",
       "      <td>339</td>\n",
       "      <td>82</td>\n",
       "      <td>22</td>\n",
       "      <td>1738</td>\n",
       "      <td>467</td>\n",
       "      <td>50.430272</td>\n",
       "      <td>0.475905</td>\n",
       "      <td>4.283142</td>\n",
       "      <td>6.722153</td>\n",
       "      <td>1.626007</td>\n",
       "      <td>0.436246</td>\n",
       "      <td>0.268700</td>\n",
       "    </tr>\n",
       "    <tr>\n",
       "      <th>alomaro01</th>\n",
       "      <td>3090</td>\n",
       "      <td>91</td>\n",
       "      <td>342</td>\n",
       "      <td>583</td>\n",
       "      <td>173</td>\n",
       "      <td>20</td>\n",
       "      <td>2748</td>\n",
       "      <td>867</td>\n",
       "      <td>79.748997</td>\n",
       "      <td>1.141080</td>\n",
       "      <td>4.288455</td>\n",
       "      <td>7.310437</td>\n",
       "      <td>2.169306</td>\n",
       "      <td>0.250787</td>\n",
       "      <td>0.315502</td>\n",
       "    </tr>\n",
       "  </tbody>\n",
       "</table>\n",
       "</div>"
      ],
      "text/plain": [
       "           PA_sum  HR_sum  BB_sum  singles_sum  doubles_sum  triples_sum  \\\n",
       "playerID                                                                   \n",
       "abreubo01    2815      96     420          444          164           33   \n",
       "agbaybe01    1060      35     123          172           51            6   \n",
       "alfoned01    3063      96     359          535          158            7   \n",
       "alicelu01    1954      24     216          339           82           22   \n",
       "alomaro01    3090      91     342          583          173           20   \n",
       "\n",
       "           AB_sum  H_sum  Average_PA        HR        BB   singles   doubles  \\\n",
       "playerID                                                                       \n",
       "abreubo01    2395    737   72.651595  1.321375  5.781016  6.111359  2.257349   \n",
       "agbaybe01     937    264   27.357261  1.279368  4.496064  6.287179  1.864222   \n",
       "alfoned01    2704    796   79.052161  1.214388  4.541305  6.767683  1.998680   \n",
       "alicelu01    1738    467   50.430272  0.475905  4.283142  6.722153  1.626007   \n",
       "alomaro01    2748    867   79.748997  1.141080  4.288455  7.310437  2.169306   \n",
       "\n",
       "            triples   Average  \n",
       "playerID                       \n",
       "abreubo01  0.454223  0.307724  \n",
       "agbaybe01  0.219320  0.281750  \n",
       "alfoned01  0.088549  0.294379  \n",
       "alicelu01  0.436246  0.268700  \n",
       "alomaro01  0.250787  0.315502  "
      ]
     },
     "execution_count": 12,
     "metadata": {},
     "output_type": "execute_result"
    }
   ],
   "source": [
    "players.head()"
   ]
  },
  {
   "cell_type": "code",
   "execution_count": 13,
   "metadata": {},
   "outputs": [
    {
     "data": {
      "text/html": [
       "<div>\n",
       "<style scoped>\n",
       "    .dataframe tbody tr th:only-of-type {\n",
       "        vertical-align: middle;\n",
       "    }\n",
       "\n",
       "    .dataframe tbody tr th {\n",
       "        vertical-align: top;\n",
       "    }\n",
       "\n",
       "    .dataframe thead th {\n",
       "        text-align: right;\n",
       "    }\n",
       "</style>\n",
       "<table border=\"1\" class=\"dataframe\">\n",
       "  <thead>\n",
       "    <tr style=\"text-align: right;\">\n",
       "      <th></th>\n",
       "      <th>HR</th>\n",
       "      <th>BB</th>\n",
       "      <th>singles</th>\n",
       "      <th>doubles</th>\n",
       "      <th>triples</th>\n",
       "    </tr>\n",
       "    <tr>\n",
       "      <th>playerID</th>\n",
       "      <th></th>\n",
       "      <th></th>\n",
       "      <th></th>\n",
       "      <th></th>\n",
       "      <th></th>\n",
       "    </tr>\n",
       "  </thead>\n",
       "  <tbody>\n",
       "    <tr>\n",
       "      <th>abreubo01</th>\n",
       "      <td>1.321375</td>\n",
       "      <td>5.781016</td>\n",
       "      <td>6.111359</td>\n",
       "      <td>2.257349</td>\n",
       "      <td>0.454223</td>\n",
       "    </tr>\n",
       "    <tr>\n",
       "      <th>agbaybe01</th>\n",
       "      <td>1.279368</td>\n",
       "      <td>4.496064</td>\n",
       "      <td>6.287179</td>\n",
       "      <td>1.864222</td>\n",
       "      <td>0.219320</td>\n",
       "    </tr>\n",
       "    <tr>\n",
       "      <th>alfoned01</th>\n",
       "      <td>1.214388</td>\n",
       "      <td>4.541305</td>\n",
       "      <td>6.767683</td>\n",
       "      <td>1.998680</td>\n",
       "      <td>0.088549</td>\n",
       "    </tr>\n",
       "    <tr>\n",
       "      <th>alicelu01</th>\n",
       "      <td>0.475905</td>\n",
       "      <td>4.283142</td>\n",
       "      <td>6.722153</td>\n",
       "      <td>1.626007</td>\n",
       "      <td>0.436246</td>\n",
       "    </tr>\n",
       "    <tr>\n",
       "      <th>alomaro01</th>\n",
       "      <td>1.141080</td>\n",
       "      <td>4.288455</td>\n",
       "      <td>7.310437</td>\n",
       "      <td>2.169306</td>\n",
       "      <td>0.250787</td>\n",
       "    </tr>\n",
       "  </tbody>\n",
       "</table>\n",
       "</div>"
      ],
      "text/plain": [
       "                 HR        BB   singles   doubles   triples\n",
       "playerID                                                   \n",
       "abreubo01  1.321375  5.781016  6.111359  2.257349  0.454223\n",
       "agbaybe01  1.279368  4.496064  6.287179  1.864222  0.219320\n",
       "alfoned01  1.214388  4.541305  6.767683  1.998680  0.088549\n",
       "alicelu01  0.475905  4.283142  6.722153  1.626007  0.436246\n",
       "alomaro01  1.141080  4.288455  7.310437  2.169306  0.250787"
      ]
     },
     "execution_count": 13,
     "metadata": {},
     "output_type": "execute_result"
    }
   ],
   "source": [
    "players_features = players[[\"HR\",\"BB\",\"singles\",\"doubles\",\"triples\"]]\n",
    "players_features.head()"
   ]
  },
  {
   "cell_type": "code",
   "execution_count": 14,
   "metadata": {},
   "outputs": [
    {
     "data": {
      "text/html": [
       "<div>\n",
       "<style scoped>\n",
       "    .dataframe tbody tr th:only-of-type {\n",
       "        vertical-align: middle;\n",
       "    }\n",
       "\n",
       "    .dataframe tbody tr th {\n",
       "        vertical-align: top;\n",
       "    }\n",
       "\n",
       "    .dataframe thead th {\n",
       "        text-align: right;\n",
       "    }\n",
       "</style>\n",
       "<table border=\"1\" class=\"dataframe\">\n",
       "  <thead>\n",
       "    <tr style=\"text-align: right;\">\n",
       "      <th></th>\n",
       "      <th>HR</th>\n",
       "      <th>BB</th>\n",
       "      <th>singles</th>\n",
       "      <th>doubles</th>\n",
       "      <th>triples</th>\n",
       "      <th>R_hat</th>\n",
       "    </tr>\n",
       "    <tr>\n",
       "      <th>playerID</th>\n",
       "      <th></th>\n",
       "      <th></th>\n",
       "      <th></th>\n",
       "      <th></th>\n",
       "      <th></th>\n",
       "      <th></th>\n",
       "    </tr>\n",
       "  </thead>\n",
       "  <tbody>\n",
       "    <tr>\n",
       "      <th>abreubo01</th>\n",
       "      <td>1.321375</td>\n",
       "      <td>5.781016</td>\n",
       "      <td>6.111359</td>\n",
       "      <td>2.257349</td>\n",
       "      <td>0.454223</td>\n",
       "      <td>8.876176</td>\n",
       "    </tr>\n",
       "    <tr>\n",
       "      <th>agbaybe01</th>\n",
       "      <td>1.279368</td>\n",
       "      <td>4.496064</td>\n",
       "      <td>6.287179</td>\n",
       "      <td>1.864222</td>\n",
       "      <td>0.219320</td>\n",
       "      <td>7.505707</td>\n",
       "    </tr>\n",
       "    <tr>\n",
       "      <th>alfoned01</th>\n",
       "      <td>1.214388</td>\n",
       "      <td>4.541305</td>\n",
       "      <td>6.767683</td>\n",
       "      <td>1.998680</td>\n",
       "      <td>0.088549</td>\n",
       "      <td>7.852762</td>\n",
       "    </tr>\n",
       "    <tr>\n",
       "      <th>alicelu01</th>\n",
       "      <td>0.475905</td>\n",
       "      <td>4.283142</td>\n",
       "      <td>6.722153</td>\n",
       "      <td>1.626007</td>\n",
       "      <td>0.436246</td>\n",
       "      <td>7.451847</td>\n",
       "    </tr>\n",
       "    <tr>\n",
       "      <th>alomaro01</th>\n",
       "      <td>1.141080</td>\n",
       "      <td>4.288455</td>\n",
       "      <td>7.310437</td>\n",
       "      <td>2.169306</td>\n",
       "      <td>0.250787</td>\n",
       "      <td>8.557009</td>\n",
       "    </tr>\n",
       "  </tbody>\n",
       "</table>\n",
       "</div>"
      ],
      "text/plain": [
       "                 HR        BB   singles   doubles   triples     R_hat\n",
       "playerID                                                             \n",
       "abreubo01  1.321375  5.781016  6.111359  2.257349  0.454223  8.876176\n",
       "agbaybe01  1.279368  4.496064  6.287179  1.864222  0.219320  7.505707\n",
       "alfoned01  1.214388  4.541305  6.767683  1.998680  0.088549  7.852762\n",
       "alicelu01  0.475905  4.283142  6.722153  1.626007  0.436246  7.451847\n",
       "alomaro01  1.141080  4.288455  7.310437  2.169306  0.250787  8.557009"
      ]
     },
     "execution_count": 14,
     "metadata": {},
     "output_type": "execute_result"
    }
   ],
   "source": [
    "#players_features[\"R_hat\"]=(reg.predict(players_features))\n",
    "players_features[\"R_hat\"]=(model.predict(players_features))\n",
    "players_features.head()"
   ]
  },
  {
   "cell_type": "raw",
   "metadata": {},
   "source": [
    "The player-specific predicted runs computed here can be interpreted as the number of runs we predict a team  will score if all batters are exactly like that player "
   ]
  },
  {
   "cell_type": "markdown",
   "metadata": {},
   "source": [
    "## Adding salary information ##"
   ]
  },
  {
   "cell_type": "code",
   "execution_count": 15,
   "metadata": {},
   "outputs": [],
   "source": [
    "Salaries=pd.read_csv(\"salaries.csv\")"
   ]
  },
  {
   "cell_type": "code",
   "execution_count": 16,
   "metadata": {},
   "outputs": [],
   "source": [
    "salaries_yr_2002 =Salaries[Salaries.yearID==2002]\n",
    "salaries_yr_2002= salaries_yr_2002[[\"playerID\",\"salary\"]]"
   ]
  },
  {
   "cell_type": "code",
   "execution_count": 17,
   "metadata": {},
   "outputs": [
    {
     "data": {
      "text/html": [
       "<div>\n",
       "<style scoped>\n",
       "    .dataframe tbody tr th:only-of-type {\n",
       "        vertical-align: middle;\n",
       "    }\n",
       "\n",
       "    .dataframe tbody tr th {\n",
       "        vertical-align: top;\n",
       "    }\n",
       "\n",
       "    .dataframe thead th {\n",
       "        text-align: right;\n",
       "    }\n",
       "</style>\n",
       "<table border=\"1\" class=\"dataframe\">\n",
       "  <thead>\n",
       "    <tr style=\"text-align: right;\">\n",
       "      <th></th>\n",
       "      <th>playerID</th>\n",
       "      <th>salary</th>\n",
       "      <th>HR</th>\n",
       "      <th>BB</th>\n",
       "      <th>singles</th>\n",
       "      <th>doubles</th>\n",
       "      <th>triples</th>\n",
       "      <th>R_hat</th>\n",
       "    </tr>\n",
       "  </thead>\n",
       "  <tbody>\n",
       "    <tr>\n",
       "      <th>0</th>\n",
       "      <td>anderga01</td>\n",
       "      <td>5000000</td>\n",
       "      <td>1.245384</td>\n",
       "      <td>1.676031</td>\n",
       "      <td>7.251160</td>\n",
       "      <td>2.234707</td>\n",
       "      <td>0.197865</td>\n",
       "      <td>7.197128</td>\n",
       "    </tr>\n",
       "    <tr>\n",
       "      <th>1</th>\n",
       "      <td>erstada01</td>\n",
       "      <td>6250000</td>\n",
       "      <td>0.982139</td>\n",
       "      <td>3.197939</td>\n",
       "      <td>7.198358</td>\n",
       "      <td>2.024164</td>\n",
       "      <td>0.227569</td>\n",
       "      <td>7.632801</td>\n",
       "    </tr>\n",
       "    <tr>\n",
       "      <th>2</th>\n",
       "      <td>fabrejo01</td>\n",
       "      <td>500000</td>\n",
       "      <td>0.583429</td>\n",
       "      <td>2.230759</td>\n",
       "      <td>6.623638</td>\n",
       "      <td>1.132539</td>\n",
       "      <td>0.171597</td>\n",
       "      <td>5.360105</td>\n",
       "    </tr>\n",
       "    <tr>\n",
       "      <th>3</th>\n",
       "      <td>fullmbr01</td>\n",
       "      <td>4000000</td>\n",
       "      <td>1.433642</td>\n",
       "      <td>2.504095</td>\n",
       "      <td>5.906606</td>\n",
       "      <td>2.676132</td>\n",
       "      <td>0.133807</td>\n",
       "      <td>7.111337</td>\n",
       "    </tr>\n",
       "    <tr>\n",
       "      <th>4</th>\n",
       "      <td>glaustr01</td>\n",
       "      <td>4000000</td>\n",
       "      <td>2.105016</td>\n",
       "      <td>5.440932</td>\n",
       "      <td>4.299228</td>\n",
       "      <td>2.015821</td>\n",
       "      <td>0.053517</td>\n",
       "      <td>6.717143</td>\n",
       "    </tr>\n",
       "  </tbody>\n",
       "</table>\n",
       "</div>"
      ],
      "text/plain": [
       "    playerID   salary        HR        BB   singles   doubles   triples  \\\n",
       "0  anderga01  5000000  1.245384  1.676031  7.251160  2.234707  0.197865   \n",
       "1  erstada01  6250000  0.982139  3.197939  7.198358  2.024164  0.227569   \n",
       "2  fabrejo01   500000  0.583429  2.230759  6.623638  1.132539  0.171597   \n",
       "3  fullmbr01  4000000  1.433642  2.504095  5.906606  2.676132  0.133807   \n",
       "4  glaustr01  4000000  2.105016  5.440932  4.299228  2.015821  0.053517   \n",
       "\n",
       "      R_hat  \n",
       "0  7.197128  \n",
       "1  7.632801  \n",
       "2  5.360105  \n",
       "3  7.111337  \n",
       "4  6.717143  "
      ]
     },
     "execution_count": 17,
     "metadata": {},
     "output_type": "execute_result"
    }
   ],
   "source": [
    "player_insights = pd.merge(salaries_yr_2002, players_features, on='playerID')\n",
    "player_insights.head()"
   ]
  },
  {
   "cell_type": "markdown",
   "metadata": {},
   "source": [
    "## Select the players given the maximum budget as 40 million dollars ##\n"
   ]
  },
  {
   "cell_type": "markdown",
   "metadata": {},
   "source": [
    "Please see reference link before proceeding the code : \n",
    "https://docs.python-mip.com/en/latest/examples.html"
   ]
  },
  {
   "cell_type": "code",
   "execution_count": 18,
   "metadata": {},
   "outputs": [],
   "source": [
    "from mip import Model, xsum, maximize, BINARY"
   ]
  },
  {
   "cell_type": "code",
   "execution_count": 19,
   "metadata": {},
   "outputs": [],
   "source": [
    "p = player_insights[\"R_hat\"]\n",
    "w = player_insights[\"salary\"]\n",
    "\n",
    "c, I = 40000000, range(len(w))"
   ]
  },
  {
   "cell_type": "code",
   "execution_count": 20,
   "metadata": {},
   "outputs": [
    {
     "name": "stdout",
     "output_type": "stream",
     "text": [
      "selected items: [15, 54, 69, 87, 90, 111, 155, 194, 222]\n"
     ]
    }
   ],
   "source": [
    "m = Model(\"knapsack\")\n",
    "\n",
    "x = [m.add_var(var_type=BINARY) for i in I]\n",
    "\n",
    "m.objective = maximize(xsum(p[i] * x[i] for i in I))\n",
    "\n",
    "m += xsum(w[i] * x[i] for i in I) <= c\n",
    "m += xsum(x[i] for i in I) <= 9\n",
    "m.optimize()\n",
    "\n",
    "selected = [i for i in I if x[i].x >= 0.99]\n",
    "print(\"selected items: {}\".format(selected))\n"
   ]
  },
  {
   "cell_type": "markdown",
   "metadata": {},
   "source": [
    "## Selected team ##"
   ]
  },
  {
   "cell_type": "code",
   "execution_count": 21,
   "metadata": {},
   "outputs": [
    {
     "data": {
      "text/html": [
       "<div>\n",
       "<style scoped>\n",
       "    .dataframe tbody tr th:only-of-type {\n",
       "        vertical-align: middle;\n",
       "    }\n",
       "\n",
       "    .dataframe tbody tr th {\n",
       "        vertical-align: top;\n",
       "    }\n",
       "\n",
       "    .dataframe thead th {\n",
       "        text-align: right;\n",
       "    }\n",
       "</style>\n",
       "<table border=\"1\" class=\"dataframe\">\n",
       "  <thead>\n",
       "    <tr style=\"text-align: right;\">\n",
       "      <th></th>\n",
       "      <th>playerID</th>\n",
       "      <th>salary</th>\n",
       "      <th>HR</th>\n",
       "      <th>BB</th>\n",
       "      <th>singles</th>\n",
       "      <th>doubles</th>\n",
       "      <th>triples</th>\n",
       "      <th>R_hat</th>\n",
       "    </tr>\n",
       "  </thead>\n",
       "  <tbody>\n",
       "    <tr>\n",
       "      <th>15</th>\n",
       "      <td>gracema01</td>\n",
       "      <td>3000000</td>\n",
       "      <td>0.884232</td>\n",
       "      <td>5.231708</td>\n",
       "      <td>6.803676</td>\n",
       "      <td>2.296548</td>\n",
       "      <td>0.196496</td>\n",
       "      <td>8.639206</td>\n",
       "    </tr>\n",
       "    <tr>\n",
       "      <th>54</th>\n",
       "      <td>loftoke01</td>\n",
       "      <td>1025000</td>\n",
       "      <td>0.690507</td>\n",
       "      <td>4.638123</td>\n",
       "      <td>7.243810</td>\n",
       "      <td>1.602498</td>\n",
       "      <td>0.351768</td>\n",
       "      <td>7.967508</td>\n",
       "    </tr>\n",
       "    <tr>\n",
       "      <th>69</th>\n",
       "      <td>caseyse01</td>\n",
       "      <td>4000000</td>\n",
       "      <td>1.188545</td>\n",
       "      <td>3.657062</td>\n",
       "      <td>7.131270</td>\n",
       "      <td>2.486802</td>\n",
       "      <td>0.109712</td>\n",
       "      <td>8.296037</td>\n",
       "    </tr>\n",
       "    <tr>\n",
       "      <th>87</th>\n",
       "      <td>heltoto01</td>\n",
       "      <td>5000000</td>\n",
       "      <td>2.240350</td>\n",
       "      <td>4.739202</td>\n",
       "      <td>6.218408</td>\n",
       "      <td>2.742993</td>\n",
       "      <td>0.157973</td>\n",
       "      <td>8.929569</td>\n",
       "    </tr>\n",
       "    <tr>\n",
       "      <th>90</th>\n",
       "      <td>walkela01</td>\n",
       "      <td>12666667</td>\n",
       "      <td>2.326584</td>\n",
       "      <td>4.876878</td>\n",
       "      <td>6.845525</td>\n",
       "      <td>2.595036</td>\n",
       "      <td>0.313194</td>\n",
       "      <td>9.558451</td>\n",
       "    </tr>\n",
       "    <tr>\n",
       "      <th>111</th>\n",
       "      <td>berkmla01</td>\n",
       "      <td>500000</td>\n",
       "      <td>1.932416</td>\n",
       "      <td>5.240449</td>\n",
       "      <td>5.502471</td>\n",
       "      <td>2.783988</td>\n",
       "      <td>0.196517</td>\n",
       "      <td>8.629489</td>\n",
       "    </tr>\n",
       "    <tr>\n",
       "      <th>155</th>\n",
       "      <td>mientdo01</td>\n",
       "      <td>285000</td>\n",
       "      <td>0.643882</td>\n",
       "      <td>4.317799</td>\n",
       "      <td>6.438824</td>\n",
       "      <td>2.310401</td>\n",
       "      <td>0.151502</td>\n",
       "      <td>7.745977</td>\n",
       "    </tr>\n",
       "    <tr>\n",
       "      <th>194</th>\n",
       "      <td>abreubo01</td>\n",
       "      <td>6333333</td>\n",
       "      <td>1.321375</td>\n",
       "      <td>5.781016</td>\n",
       "      <td>6.111359</td>\n",
       "      <td>2.257349</td>\n",
       "      <td>0.454223</td>\n",
       "      <td>8.876176</td>\n",
       "    </tr>\n",
       "    <tr>\n",
       "      <th>222</th>\n",
       "      <td>martied01</td>\n",
       "      <td>7086668</td>\n",
       "      <td>1.741558</td>\n",
       "      <td>6.311602</td>\n",
       "      <td>6.410414</td>\n",
       "      <td>2.309725</td>\n",
       "      <td>0.049406</td>\n",
       "      <td>9.019139</td>\n",
       "    </tr>\n",
       "  </tbody>\n",
       "</table>\n",
       "</div>"
      ],
      "text/plain": [
       "      playerID    salary        HR        BB   singles   doubles   triples  \\\n",
       "15   gracema01   3000000  0.884232  5.231708  6.803676  2.296548  0.196496   \n",
       "54   loftoke01   1025000  0.690507  4.638123  7.243810  1.602498  0.351768   \n",
       "69   caseyse01   4000000  1.188545  3.657062  7.131270  2.486802  0.109712   \n",
       "87   heltoto01   5000000  2.240350  4.739202  6.218408  2.742993  0.157973   \n",
       "90   walkela01  12666667  2.326584  4.876878  6.845525  2.595036  0.313194   \n",
       "111  berkmla01    500000  1.932416  5.240449  5.502471  2.783988  0.196517   \n",
       "155  mientdo01    285000  0.643882  4.317799  6.438824  2.310401  0.151502   \n",
       "194  abreubo01   6333333  1.321375  5.781016  6.111359  2.257349  0.454223   \n",
       "222  martied01   7086668  1.741558  6.311602  6.410414  2.309725  0.049406   \n",
       "\n",
       "        R_hat  \n",
       "15   8.639206  \n",
       "54   7.967508  \n",
       "69   8.296037  \n",
       "87   8.929569  \n",
       "90   9.558451  \n",
       "111  8.629489  \n",
       "155  7.745977  \n",
       "194  8.876176  \n",
       "222  9.019139  "
      ]
     },
     "execution_count": 21,
     "metadata": {},
     "output_type": "execute_result"
    }
   ],
   "source": [
    "selected_team=player_insights.iloc[selected]\n",
    "selected_team"
   ]
  },
  {
   "cell_type": "code",
   "execution_count": null,
   "metadata": {},
   "outputs": [],
   "source": []
  }
 ],
 "metadata": {
  "kernelspec": {
   "display_name": "Python 3",
   "language": "python",
   "name": "python3"
  },
  "language_info": {
   "codemirror_mode": {
    "name": "ipython",
    "version": 3
   },
   "file_extension": ".py",
   "mimetype": "text/x-python",
   "name": "python",
   "nbconvert_exporter": "python",
   "pygments_lexer": "ipython3",
   "version": "3.7.3"
  }
 },
 "nbformat": 4,
 "nbformat_minor": 5
}
