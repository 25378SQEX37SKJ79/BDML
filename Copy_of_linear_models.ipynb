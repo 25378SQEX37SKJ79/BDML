{
  "nbformat": 4,
  "nbformat_minor": 5,
  "metadata": {
    "colab": {
      "name": "Copy of linear-models.ipynb",
      "provenance": [],
      "collapsed_sections": [],
      "include_colab_link": true
    },
    "language_info": {
      "name": "python"
    },
    "kernelspec": {
      "name": "python3",
      "display_name": "Python 3"
    }
  },
  "cells": [
    {
      "cell_type": "markdown",
      "metadata": {
        "id": "view-in-github",
        "colab_type": "text"
      },
      "source": [
        "<a href=\"https://colab.research.google.com/github/tleitch/BDML/blob/main/Copy_of_linear_models.ipynb\" target=\"_parent\"><img src=\"https://colab.research.google.com/assets/colab-badge.svg\" alt=\"Open In Colab\"/></a>"
      ]
    },
    {
      "cell_type": "code",
      "metadata": {
        "colab": {
          "base_uri": "https://localhost:8080/"
        },
        "id": "DXUuUxL9sJdo",
        "outputId": "9722b00f-56c7-440d-9464-2af33ba5f087"
      },
      "source": [
        "import pandas as pd\n",
        "import matplotlib.pyplot as plt\n",
        "from sklearn.linear_model import LinearRegression\n",
        "from sklearn.linear_model import BayesianRidge\n",
        "pd.options.mode.chained_assignment = None  # default='warn'\n",
        "!pip install mip\n",
        "from mip import Model, xsum, maximize, BINARY"
      ],
      "id": "DXUuUxL9sJdo",
      "execution_count": 7,
      "outputs": [
        {
          "output_type": "stream",
          "text": [
            "Requirement already satisfied: mip in /usr/local/lib/python3.7/dist-packages (1.13.0)\n",
            "Requirement already satisfied: cffi in /usr/local/lib/python3.7/dist-packages (from mip) (1.14.5)\n",
            "Requirement already satisfied: pycparser in /usr/local/lib/python3.7/dist-packages (from cffi->mip) (2.20)\n"
          ],
          "name": "stdout"
        }
      ]
    },
    {
      "cell_type": "markdown",
      "metadata": {
        "id": "38V8Zw-asAWP"
      },
      "source": [
        "# Confounding \n",
        "\n",
        "Previously, we noted a strong relationship between Runs and BB. If we find the regression line for predicting runs from bases on balls, we a get slope of:"
      ],
      "id": "38V8Zw-asAWP"
    },
    {
      "cell_type": "code",
      "metadata": {
        "id": "better-swedish"
      },
      "source": [
        "%%R\n",
        "library(tidyverse)\n",
        "library(Lahman)\n",
        "get_slope <- function(x, y) cor(x, y) * sd(y) / sd(x)\n",
        "\n",
        "bb_slope <- Teams %>% \n",
        "  filter(yearID %in% 1961:2001 ) %>% \n",
        "  mutate(BB_per_game = BB/G, R_per_game = R/G) %>% \n",
        "  summarize(slope = get_slope(BB_per_game, R_per_game))\n",
        "\n",
        "bb_slope "
      ],
      "id": "better-swedish",
      "execution_count": null,
      "outputs": []
    },
    {
      "cell_type": "markdown",
      "metadata": {
        "id": "passing-access"
      },
      "source": [
        "So does this mean that if we go and hire low salary players with many BB, and who therefore increase the number of walks per game by 2, our team will score **r round(bb_slope*2, 1)** more runs per game? \n",
        "\n",
        "We are again reminded that association is not causation. The data does provide strong evidence that a team with two more BB per game than the average team, scores **r round(bb_slope*2, 1)** runs per game. But this does not mean that BB are the cause. \n",
        "\n",
        "Note that if we compute the regression line slope for singles we get:"
      ],
      "id": "passing-access"
    },
    {
      "cell_type": "code",
      "metadata": {
        "id": "increased-carolina"
      },
      "source": [
        "%%R\n",
        "singles_slope <- Teams %>% \n",
        "  filter(yearID %in% 1961:2001 ) %>%\n",
        "  mutate(Singles_per_game = (H-HR-X2B-X3B)/G, R_per_game = R/G) %>%\n",
        "  summarize(slope = get_slope(Singles_per_game, R_per_game))\n",
        "\n",
        "singles_slope "
      ],
      "id": "increased-carolina",
      "execution_count": null,
      "outputs": []
    },
    {
      "cell_type": "markdown",
      "metadata": {
        "id": "wired-power"
      },
      "source": [
        "which is a lower value than what we obtain for BB.\n",
        "\n",
        "Also, notice that a single gets you to first base just like a BB. Those that know about baseball will tell you that with a single, runners on base have a better chance of scoring than with a BB. So how can BB be more predictive of runs? The reason this happen is because of confounding. Here we show the correlation between HR, BB, and singles:"
      ],
      "id": "wired-power"
    },
    {
      "cell_type": "code",
      "metadata": {
        "id": "satisfied-basis"
      },
      "source": [
        "%%R\n",
        "Teams %>% \n",
        "  filter(yearID %in% 1961:2001 ) %>% \n",
        "  mutate(Singles = (H-HR-X2B-X3B)/G, BB = BB/G, HR = HR/G) %>%  \n",
        "  summarize(cor(BB, HR), cor(Singles, HR), cor(BB, Singles))"
      ],
      "id": "satisfied-basis",
      "execution_count": null,
      "outputs": []
    },
    {
      "cell_type": "markdown",
      "metadata": {
        "id": "appreciated-account"
      },
      "source": [
        "It turns out that pitchers, afraid of HRs, will sometimes avoid throwing strikes to HR hitters. As a result, HR hitters tend to have more BBs and a team with many HRs will also have more BBs. Although it may appear that BBs cause runs, it is actually the HRs that cause most of these runs. We say that BBs are _confounded_ with HRs. Nonetheless, could it be that BBs still help? To find out, we somehow have to adjust for the HR effect. Regression can help with this as well.\n",
        "\n",
        "### Understanding confounding through stratification \n",
        "\n",
        "A first approach is to keep HRs fixed at a certain value and then examine the relationship between BB and runs. As we did when we stratified fathers by rounding to the closest inch, here we can stratify HR per game to the closest ten. We filter out the strata with few points to avoid highly variable estimates:"
      ],
      "id": "appreciated-account"
    },
    {
      "cell_type": "code",
      "metadata": {
        "id": "referenced-corps"
      },
      "source": [
        "%%R\n",
        "dat <- Teams %>% filter(yearID %in% 1961:2001) %>%\n",
        "  mutate(HR_strata = round(HR/G, 1), \n",
        "         BB_per_game = BB / G,\n",
        "         R_per_game = R / G) %>%\n",
        "  filter(HR_strata >= 0.4 & HR_strata <=1.2) "
      ],
      "id": "referenced-corps",
      "execution_count": null,
      "outputs": []
    },
    {
      "cell_type": "markdown",
      "metadata": {
        "id": "smooth-valley"
      },
      "source": [
        "and then make a scatterplot for each strata:"
      ],
      "id": "smooth-valley"
    },
    {
      "cell_type": "code",
      "metadata": {
        "id": "bronze-mayor"
      },
      "source": [
        "%%R\n",
        "dat %>% \n",
        "  ggplot(aes(BB_per_game, R_per_game)) +  \n",
        "  geom_point(alpha = 0.5) +\n",
        "  geom_smooth(method = \"lm\") +\n",
        "  facet_wrap( ~ HR_strata) "
      ],
      "id": "bronze-mayor",
      "execution_count": null,
      "outputs": []
    },
    {
      "cell_type": "markdown",
      "metadata": {
        "id": "beneficial-premiere"
      },
      "source": [
        "Remember that the regression slope for predicting runs with BB was **r round(bb_slope, 1)**. Once we stratify by HR, these slopes are substantially reduced:"
      ],
      "id": "beneficial-premiere"
    },
    {
      "cell_type": "code",
      "metadata": {
        "id": "hydraulic-night"
      },
      "source": [
        "%%R\n",
        "dat %>%  \n",
        "  group_by(HR_strata) %>%\n",
        "  summarize(slope = get_slope(BB_per_game, R_per_game))"
      ],
      "id": "hydraulic-night",
      "execution_count": null,
      "outputs": []
    },
    {
      "cell_type": "markdown",
      "metadata": {
        "id": "executed-wilson"
      },
      "source": [
        "The slopes are reduced, but they are not 0, which indicates that BBs are helpful for producing runs, just not as much as previously thought.\n",
        "In fact, the values above are closer to the slope we obtained from singles, **r round(singles_slope, 2)**, which is more consistent with our intuition. Since both singles and BB get us to first base, they should have about the same predictive power.\n",
        "\n",
        "Although our understanding of the application tells us that HR cause BB but not the other way around, we can still check if stratifying by BB makes the effect of BB go down. To do this, we use the same code except that we swap HR and BBs to get this plot:\n",
        "\n",
        "\n",
        "\n",
        "In this case, the slopes do not change much from the original:"
      ],
      "id": "executed-wilson"
    },
    {
      "cell_type": "code",
      "metadata": {
        "id": "faced-prevention"
      },
      "source": [
        "%%R\n",
        "dat %>% group_by(BB_strata) %>%\n",
        "   summarize(slope = get_slope(HR_per_game, R_per_game))"
      ],
      "id": "faced-prevention",
      "execution_count": null,
      "outputs": []
    },
    {
      "cell_type": "markdown",
      "metadata": {
        "id": "upper-screw"
      },
      "source": [
        "They are reduced a bit, which is consistent with the fact that BB do in fact cause some runs."
      ],
      "id": "upper-screw"
    },
    {
      "cell_type": "code",
      "metadata": {
        "id": "improving-penny"
      },
      "source": [
        "%%R\n",
        "hr_slope <- Teams %>% \n",
        "  filter(yearID %in% 1961:2001 ) %>% \n",
        "  mutate(HR_per_game = HR/G, R_per_game = R/G) %>% \n",
        "  summarize(slope = get_slope(HR_per_game, R_per_game))\n",
        "\n",
        "hr_slope"
      ],
      "id": "improving-penny",
      "execution_count": null,
      "outputs": []
    },
    {
      "cell_type": "markdown",
      "metadata": {
        "id": "intermediate-credit"
      },
      "source": [
        "Regardless, it seems that if we stratify by HR, we have bivariate distributions for runs versus BB. Similarly, if we stratify by BB, we have approximate bivariate normal distributions for HR versus runs. \n",
        "\n",
        "###  Multivariate regression\n",
        "\n",
        "It is somewhat complex to be computing regression lines for each strata. We are essentially fitting models like this:\n",
        "\n",
        "$$\n",
        "\\mbox{E}[R \\mid BB = x_1, \\, HR = x_2] = \\beta_0 + \\beta_1(x_2) x_1 + \\beta_2(x_1) x_2\n",
        "$$\n",
        "\n",
        "with the slopes for $x_1$ changing for different values of $x_2$ and vice versa. But is there an easier approach?\n",
        "\n",
        "If we take random variability into account, the slopes in the strata don't appear to change much. If these slopes are in fact the same, this implies that $\\beta_1(x_2)$ and $\\beta_2(x_1)$ are constants. This in turn implies that the expectation of runs conditioned on HR and BB can be written like this:\n",
        "\n",
        "$$\n",
        "\\mbox{E}[R \\mid BB = x_1, \\, HR = x_2] = \\beta_0 + \\beta_1 x_1 + \\beta_2 x_2\n",
        "$$\n",
        "\n",
        "This model suggests that if the number of HR is fixed at $x_2$, we observe a linear relationship between runs and BB with an intercept of $\\beta_0 + \\beta_2 x_2$. Our exploratory data analysis suggested this. The model also suggests that as the number of HR grows, the intercept growth is linear as well and determined by $\\beta_1 x_1$. \n",
        "\n",
        "In this analysis, referred to as _multivariate regression_, you will often hear people say that the BB slope $\\beta_1$ is _adjusted_ for the HR effect. If the model is correct then confounding has been accounted for. But how do we estimate $\\beta_1$ and $\\beta_2$ from the data? For this, we learn about linear models and least squares estimates.\n",
        "\n",
        "## Least squares estimates {#lse}\n",
        "\n",
        "We have described how if data is bivariate normal then the conditional expectations follow the regression line. The fact that the conditional expectation is a line is not an extra assumption but rather a derived result. However, in practice it is common to explicitly write down a model that describes the relationship between two or more variables using a _linear model_. \n",
        "\n",
        "We note that \"linear\" here does not refer to lines exclusively, but rather to the fact that the conditional expectation is a linear combination of known quantities. In mathematics, when we multiply each variable by a constant and then add them together, we say we formed a linear combination of the variables. For example, $3x - 4y + 5z$ is a linear combination of $x$, $y$, and $z$. We can also add a constant so $2 + 3x - 4y + 5z$ is also linear combination of $x$, $y$, and $z$. \n",
        "\n",
        "So $\\beta_0 + \\beta_1 x_1 + \\beta_2 x_2$, is a linear combination of $x_1$ and $x_2$. \n",
        "The simplest linear model is a constant $\\beta_0$; the second simplest is a line $\\beta_0 + \\beta_1 x$. If we were to specify a linear model for Galton's data, we would denote the $N$ observed father heights with $x_1, \\dots, x_n$, then we model the $N$ son heights we are trying to predict with: \n",
        "\n",
        "$$ \n",
        "Y_i = \\beta_0 + \\beta_1 x_i + \\varepsilon_i, \\, i=1,\\dots,N. \n",
        "$$\n",
        "\n",
        "Here $x_i$ is the father's height, which is fixed (not random) due to the conditioning, and $Y_i$ is the random son's height that we want to predict. We further assume that $\\varepsilon_i$ are independent from each other, have expected value 0 and the standard deviation, call it $\\sigma$, does not depend on $i$. \n",
        "\n",
        "In the above model, we know the $x_i$, but to have a useful model for prediction, we need $\\beta_0$ and $\\beta_1$. We estimate these from the data. Once we do this, we can predict son's heights for any father's height $x$. We show how to do this in the next section.\n",
        "\n",
        "Note that if we further assume that the $\\varepsilon$ is normally distributed, then this model is exactly the same one we derived earlier by assuming bivariate normal data. A somewhat nuanced difference is that in the first approach we assumed the data was bivariate normal and that the linear model was derived, not assumed. In practice, linear models are just assumed without necessarily assuming normality: the distribution of the $\\varepsilon$s is not specified.  Nevertheless, if your data is bivariate normal, the above linear model holds. If your data is not bivariate normal, then you will need to have other ways of justifying the model.\n",
        "\n",
        "### Interpreting linear models\n",
        "\n",
        "One reason linear models are popular is that they are interpretable. In the case of Galton's data, we can interpret the data like this: due to inherited genes, the son's height prediction grows by $\\beta_1$ for each inch we increase the father's height $x$. Because not all sons with fathers of height $x$ are of equal height, we need the term $\\varepsilon$, which explains the remaining variability. This remaining variability includes the mother's genetic effect, environmental factors, and other biological randomness. \n",
        "\n",
        "Given how we wrote the model above, the intercept $\\beta_0$ is not very interpretable as it is the predicted height of a son with a father with no height. Due to regression to the mean, the prediction will usually be a bit larger than 0. To make the slope parameter more interpretable, we can rewrite the model slightly as:\n",
        "\n",
        "$$ \n",
        "Y_i = \\beta_0 + \\beta_1 (x_i - \\bar{x}) + \\varepsilon_i, \\, i=1,\\dots,N \n",
        "$$\n",
        "\n",
        "\n",
        "with $\\bar{x} = 1/N \\sum_{i=1}^N x_i$ the average of the $x$. In this case $\\beta_0$ represents the height when $x_i = \\bar{x}$, which is the height of the son of an average father.\n",
        "\n",
        "### Least Squares Estimates (LSE)\n",
        "\n",
        "For linear models to be useful, we have to estimate the unknown $\\beta$s. The standard approach in science is to find the values that minimize the distance of the fitted model to the data. The following is called the least squares (LS) equation and we will see it often in this chapter. For Galton's data, we would write:\n",
        "\n",
        "$$ \n",
        "RSS = \\sum_{i=1}^n \\left\\{  y_i - \\left(\\beta_0 + \\beta_1 x_i \\right)\\right\\}^2 \n",
        "$$\n",
        "\n",
        "This quantity is called the residual sum of squares (RSS). Once we find the values that minimize the RSS, we will call the values the least squares estimates (LSE) and denote them with $\\hat{\\beta}_0$ and $\\hat{\\beta}_1$. Let's demonstrate this with the previously defined dataset:"
      ],
      "id": "intermediate-credit"
    },
    {
      "cell_type": "code",
      "metadata": {
        "id": "enclosed-lindsay"
      },
      "source": [
        "%%R\n",
        "library(HistData)\n",
        "data(\"GaltonFamilies\")\n",
        "set.seed(1983)\n",
        "galton_heights <- GaltonFamilies %>%\n",
        "  filter(gender == \"male\") %>%\n",
        "  group_by(family) %>%\n",
        "  sample_n(1) %>%\n",
        "  ungroup() %>%\n",
        "  select(father, childHeight) %>%\n",
        "  rename(son = childHeight)"
      ],
      "id": "enclosed-lindsay",
      "execution_count": null,
      "outputs": []
    },
    {
      "cell_type": "markdown",
      "metadata": {
        "id": "touched-horizontal"
      },
      "source": [
        "Let's write a function that computes the RSS for any pair of values $\\beta_0$ and $\\beta_1$."
      ],
      "id": "touched-horizontal"
    },
    {
      "cell_type": "code",
      "metadata": {
        "id": "correct-catering"
      },
      "source": [
        "%%R\n",
        "rss <- function(beta0, beta1, data){\n",
        "  resid <- galton_heights$son - (beta0+beta1*galton_heights$father)\n",
        "  return(sum(resid^2))\n",
        "}"
      ],
      "id": "correct-catering",
      "execution_count": null,
      "outputs": []
    },
    {
      "cell_type": "markdown",
      "metadata": {
        "id": "occupied-willow"
      },
      "source": [
        "So for any pair of values, we get an RSS. Here is a plot of the RSS as a function of $\\beta_1$ when we keep the $\\beta_0$ fixed at 25."
      ],
      "id": "occupied-willow"
    },
    {
      "cell_type": "code",
      "metadata": {
        "id": "flying-intake"
      },
      "source": [
        "%%R\n",
        "beta1 = seq(0, 1, len=nrow(galton_heights))\n",
        "results <- data.frame(beta1 = beta1,\n",
        "                      rss = sapply(beta1, rss, beta0 = 25))\n",
        "results %>% ggplot(aes(beta1, rss)) + geom_line() + \n",
        "  geom_line(aes(beta1, rss))"
      ],
      "id": "flying-intake",
      "execution_count": null,
      "outputs": []
    },
    {
      "cell_type": "markdown",
      "metadata": {
        "id": "stylish-priest"
      },
      "source": [
        "We can see a clear minimum for $\\beta_1$ at around 0.65. However, this minimum for $\\beta_1$ is for when $\\beta_0 = 25$, a value we arbitrarily picked. We don't know if  (25, 0.65) is the pair that minimizes the equation across all possible pairs. \n",
        "\n",
        "Trial and error is not going to work in this case. We could search for a minimum within a fine grid of $\\beta_0$ and $\\beta_1$ values, but this is unnecessarily time-consuming since we can use calculus: take the partial derivatives, set them to 0 and solve for $\\beta_1$ and $\\beta_2$. Of course, if we have many parameters, these equations can get rather complex. But there are functions in R that do these calculations for us. We will learn these next. To learn the mathematics behind this, you can consult a book on linear models. \n",
        "\n",
        "### The `lm` function\n",
        "\n",
        "In R, we can obtain the least squares estimates using the `lm` function. To fit the model:\n",
        "\n",
        "$$\n",
        "Y_i = \\beta_0 + \\beta_1 x_i + \\varepsilon_i\n",
        "$$\n",
        "\n",
        "with $Y_i$ the son's height and $x_i$ the father's height, we can use this code to obtain the least squares estimates."
      ],
      "id": "stylish-priest"
    },
    {
      "cell_type": "code",
      "metadata": {
        "id": "pending-hungary"
      },
      "source": [
        "%%R\n",
        "fit <- lm(son ~ father, data = galton_heights)\n",
        "fit$coef"
      ],
      "id": "pending-hungary",
      "execution_count": null,
      "outputs": []
    },
    {
      "cell_type": "markdown",
      "metadata": {
        "id": "moved-shoulder"
      },
      "source": [
        "The most common way we use `lm` is by using the character `~` to let `lm` know which is the variable we are predicting (left of `~`) and which we are using to predict (right of `~`). The intercept is added automatically to the model that will be fit. \n",
        "\n",
        "The object `fit` includes more information about the fit. We can use the function `summary` to extract more of this information (not shown):"
      ],
      "id": "moved-shoulder"
    },
    {
      "cell_type": "code",
      "metadata": {
        "id": "level-country"
      },
      "source": [
        "%%R\n",
        "summary(fit)"
      ],
      "id": "level-country",
      "execution_count": null,
      "outputs": []
    },
    {
      "cell_type": "markdown",
      "metadata": {
        "id": "thorough-budget"
      },
      "source": [
        "To understand some of the information included in this summary we need to remember that the LSE are random variables. Mathematical statistics gives us some ideas of the distribution of these random variables\n",
        "\n",
        "\n",
        "### LSE are random variables \n",
        "\n",
        "The LSE is derived from the data $y_1,\\dots,y_N$, which are a realization of random variables $Y_1, \\dots, Y_N$.  This implies that our estimates are random variables. To see this, we can run a Monte Carlo simulation in which we assume the son and father height data defines a population, take a random sample of size $N=50$, and compute the regression slope coefficient for each one:"
      ],
      "id": "thorough-budget"
    },
    {
      "cell_type": "code",
      "metadata": {
        "id": "stone-corps"
      },
      "source": [
        "%%R\n",
        "B <- 1000\n",
        "N <- 50\n",
        "lse <- replicate(B, {\n",
        "  sample_n(galton_heights, N, replace = TRUE) %>% \n",
        "    lm(son ~ father, data = .) %>% \n",
        "    .$coef \n",
        "})\n",
        "lse <- data.frame(beta_0 = lse[1,], beta_1 = lse[2,]) "
      ],
      "id": "stone-corps",
      "execution_count": null,
      "outputs": []
    },
    {
      "cell_type": "markdown",
      "metadata": {
        "id": "acoustic-locking"
      },
      "source": [
        "We can see the variability of the estimates by plotting their distributions:\n",
        "\n",
        "\n",
        "\n",
        "The reason these look normal is because the central limit theorem applies here as well: for large enough $N$, the least squares estimates will be approximately normal with expected value $\\beta_0$ and $\\beta_1$, respectively. The standard errors are a bit complicated to compute, but mathematical theory does allow us to compute them and they are included in the summary provided by the `lm` function. Here it is for one of our simulated data sets:"
      ],
      "id": "acoustic-locking"
    },
    {
      "cell_type": "code",
      "metadata": {
        "id": "piano-print"
      },
      "source": [
        "%%R\n",
        " sample_n(galton_heights, N, replace = TRUE) %>% \n",
        "  lm(son ~ father, data = .) %>% \n",
        "  summary %>% .$coef"
      ],
      "id": "piano-print",
      "execution_count": null,
      "outputs": []
    },
    {
      "cell_type": "markdown",
      "metadata": {
        "id": "junior-spray"
      },
      "source": [
        "You can see that the standard errors estimates reported by the `summary` are close to the standard errors from the simulation:"
      ],
      "id": "junior-spray"
    },
    {
      "cell_type": "code",
      "metadata": {
        "id": "opposed-north"
      },
      "source": [
        "%%R\n",
        "lse %>% summarize(se_0 = sd(beta_0), se_1 = sd(beta_1))"
      ],
      "id": "opposed-north",
      "execution_count": null,
      "outputs": []
    },
    {
      "cell_type": "markdown",
      "metadata": {
        "id": "aquatic-nirvana"
      },
      "source": [
        "The `summary` function also reports t-statistics (`t value`) and p-values (`Pr(>|t|)`). The t-statistic is not actually based on the central limit theorem but rather on the assumption that the $\\varepsilon$s follow a normal distribution. Under this assumption, mathematical theory tells us that the LSE divided by their standard error, $\\hat{\\beta}_0 / \\hat{\\mbox{SE}}(\\hat{\\beta}_0 )$ and $\\hat{\\beta}_1 / \\hat{\\mbox{SE}}(\\hat{\\beta}_1 )$, follow a t-distribution with $N-p$ degrees of freedom, with $p$ the number of parameters in our model. In the case of height $p=2$, the two p-values are testing the null hypothesis that $\\beta_0 = 0$ and $\\beta_1=0$, respectively. \n",
        "\n",
        "Remember that, as we described in Section \\@ref(t-dist) for large enough $N$, the CLT works and the t-distribution becomes almost the same as the normal distribution. Also, notice that we can construct confidence intervals, but we will soon learn about __broom__, an add-on package that makes this easy.\n",
        "\n",
        "Although we do not show examples in this book, hypothesis testing with regression models is commonly used in epidemiology and economics to make statements such as \"the effect of A on B was statistically significant after adjusting for X, Y, and Z\". However, several assumptions have to hold for these statements to be true. \n",
        "\n",
        "\n",
        "### Predicted values are random variables \n",
        "\n",
        "Once we fit our model, we can obtain prediction of $Y$ by plugging in the estimates into the regression model. For example, if the father's height is $x$, then our prediction $\\hat{Y}$ for the son's height will be:\n",
        "\n",
        "$$\\hat{Y} = \\hat{\\beta}_0 + \\hat{\\beta}_1 x$$\n",
        "\n",
        "When we plot $\\hat{Y}$ versus $x$, we see the regression line.\n",
        "\n",
        "Keep in mind that the prediction $\\hat{Y}$ is also a random variable and mathematical theory tells us what the standard errors are. If we assume the errors are normal, or have a large enough sample size, we can use theory to construct confidence intervals as well. In fact, the __ggplot2__ layer `geom_smooth(method = \"lm\")` that we previously used plots $\\hat{Y}$ and surrounds it by confidence intervals:"
      ],
      "id": "aquatic-nirvana"
    },
    {
      "cell_type": "code",
      "metadata": {
        "id": "muslim-liabilities"
      },
      "source": [
        "%%R\n",
        "galton_heights %>% ggplot(aes(son, father)) +\n",
        "  geom_point() +\n",
        "  geom_smooth(method = \"lm\")"
      ],
      "id": "muslim-liabilities",
      "execution_count": null,
      "outputs": []
    },
    {
      "cell_type": "markdown",
      "metadata": {
        "id": "particular-celebrity"
      },
      "source": [
        "The R function `predict` takes an `lm` object as input and returns the prediction. If requested, the standard errors and other information from which we can construct confidence intervals is provided:"
      ],
      "id": "particular-celebrity"
    },
    {
      "cell_type": "code",
      "metadata": {
        "id": "continuous-sociology"
      },
      "source": [
        "%%R\n",
        "fit <- galton_heights %>% lm(son ~ father, data = .) \n",
        "\n",
        "y_hat <- predict(fit, se.fit = TRUE)\n",
        "\n",
        "names(y_hat)"
      ],
      "id": "continuous-sociology",
      "execution_count": null,
      "outputs": []
    },
    {
      "cell_type": "markdown",
      "metadata": {
        "id": "tutorial-cross"
      },
      "source": [
        "## Exercises\n",
        "\n",
        "\n",
        "We have shown how BB and singles have similar predictive power for scoring runs. Another way to compare the usefulness of these baseball metrics is by assessing how stable they are across the years. Since we have to pick players based on their previous performances, we will prefer metrics that are more stable. In these exercises, we will compare the stability of singles and BBs. \n",
        "\n",
        "1\\. Before we get started, we want to generate two tables. One for 2002 and another for the average of 1999-2001 seasons. We want to define per plate appearance statistics. Here is how we create the 2017 table. Keeping only players with more than 100 plate appearances."
      ],
      "id": "tutorial-cross"
    },
    {
      "cell_type": "code",
      "metadata": {
        "id": "fitting-evening"
      },
      "source": [
        "%%R\n",
        "library(Lahman)\n",
        "dat <- Batting %>% filter(yearID == 2002) %>%\n",
        "  mutate(pa = AB + BB, \n",
        "         singles = (H - X2B - X3B - HR) / pa, bb = BB / pa) %>%\n",
        "  filter(pa >= 100) %>%\n",
        "  select(playerID, singles, bb)"
      ],
      "id": "fitting-evening",
      "execution_count": null,
      "outputs": []
    },
    {
      "cell_type": "markdown",
      "metadata": {
        "id": "nuclear-coalition"
      },
      "source": [
        "Now compute a similar table but with rates computed over 1999-2001. \n",
        "\n",
        "2\\. In Section \\@ref(joins) we learn about the `inner_join`, which you can use to have the 2001 data and averages in the same table:"
      ],
      "id": "nuclear-coalition"
    },
    {
      "cell_type": "code",
      "metadata": {
        "id": "marine-dialogue"
      },
      "source": [
        "%%R\n",
        "dat <- inner_join(dat, avg, by = \"playerID\")"
      ],
      "id": "marine-dialogue",
      "execution_count": null,
      "outputs": []
    },
    {
      "cell_type": "markdown",
      "metadata": {
        "id": "hindu-vietnamese"
      },
      "source": [
        "Compute the correlation between 2002 and the previous seasons for singles and BB.\n",
        "\n",
        "\n",
        "3\\. Note that the correlation is higher for BB. To quickly get an idea of the uncertainty associated with this correlation estimate, we will fit a linear model and compute confidence intervals for the slope coefficient. However, first make scatterplots to confirm that fitting a linear model is appropriate.\n",
        "\n",
        "\n",
        "4\\. Now fit a linear model for each metric and use the `confint` function to compare the estimates.\n",
        "\n",
        "\n",
        "## Linear regression in the tidyverse\n",
        "\n",
        "To see how we use the `lm` function in a more complex analysis, let's go back to the baseball example. In a previous example, we estimated regression lines to predict runs for BB in different HR strata. We first constructed a data frame similar to this:"
      ],
      "id": "hindu-vietnamese"
    },
    {
      "cell_type": "code",
      "metadata": {
        "id": "dated-eclipse"
      },
      "source": [
        "%%R\n",
        "dat <- Teams %>% filter(yearID %in% 1961:2001) %>%\n",
        "  mutate(HR = round(HR/G, 1), \n",
        "         BB = BB/G,\n",
        "         R = R/G) %>%\n",
        "  select(HR, BB, R) %>%\n",
        "  filter(HR >= 0.4 & HR<=1.2) "
      ],
      "id": "dated-eclipse",
      "execution_count": null,
      "outputs": []
    },
    {
      "cell_type": "markdown",
      "metadata": {
        "id": "major-guarantee"
      },
      "source": [
        "Since we didn't know the `lm` function, to compute the regression line in each strata, we used the formula directly like this:"
      ],
      "id": "major-guarantee"
    },
    {
      "cell_type": "code",
      "metadata": {
        "id": "driven-leonard"
      },
      "source": [
        "%%R\n",
        "get_slope <- function(x, y) cor(x, y) * sd(y) / sd(x)\n",
        "dat %>%  \n",
        "  group_by(HR) %>%\n",
        "  summarize(slope = get_slope(BB, R))"
      ],
      "id": "driven-leonard",
      "execution_count": null,
      "outputs": []
    },
    {
      "cell_type": "markdown",
      "metadata": {
        "id": "golden-isaac"
      },
      "source": [
        "We argued that the slopes are similar and that the differences were perhaps due to random variation. To provide a more rigorous defense of the slopes being the same, which led to our multivariate model, we could compute confidence intervals for each slope. We have not learned the formula for this, but the `lm` function provides enough information to construct them. \n",
        "\n",
        "First, note that if we try to use the `lm` function to get the estimated slope like this:"
      ],
      "id": "golden-isaac"
    },
    {
      "cell_type": "code",
      "metadata": {
        "id": "entire-mainstream"
      },
      "source": [
        "%%R\n",
        "dat %>%  \n",
        "  group_by(HR) %>%\n",
        "  lm(R ~ BB, data = .) %>% .$coef"
      ],
      "id": "entire-mainstream",
      "execution_count": null,
      "outputs": []
    },
    {
      "cell_type": "markdown",
      "metadata": {
        "id": "turkish-ceramic"
      },
      "source": [
        "we don't get the result we want. The `lm` function ignores the `group_by`. This is expected because `lm` is not part of the __tidyverse__ and does not know how to handle the outcome of a grouped tibble.\n",
        "\n",
        "The __tidyverse__ functions know how to interpret grouped tibbles. Furthermore, to facilitate stringing commands through the pipe `%>%`, __tidyverse__ functions consistently return data frames, since this assures that the output of a function is accepted as the input of another. \n",
        "But most R functions do not recognize grouped tibbles nor do they return data frames. The `lm` function is an example. The `do` functions serves as a bridge between R functions, such as `lm`, and the __tidyverse__. The `do` function understands grouped tibbles and always returns a data frame.\n",
        "\n",
        "So, let's try to use the `do` function to fit a regression line to each HR strata:"
      ],
      "id": "turkish-ceramic"
    },
    {
      "cell_type": "code",
      "metadata": {
        "id": "adult-incidence"
      },
      "source": [
        "%%R\n",
        "dat %>%  \n",
        "  group_by(HR) %>%\n",
        "  do(fit = lm(R ~ BB, data = .))"
      ],
      "id": "adult-incidence",
      "execution_count": null,
      "outputs": []
    },
    {
      "cell_type": "markdown",
      "metadata": {
        "id": "possible-deadline"
      },
      "source": [
        "Notice that we did in fact fit a regression line to each strata. The `do` function will create a data frame with the first column being the strata value and a column named `fit` (we chose the name, but it can be anything). The column will contain the result of the `lm` call. Therefore, the returned tibble has a column with `lm` objects, which is not very useful. \n",
        "\n",
        "Also, if we do not name a column (note above we named it `fit`), then `do` will return the actual output of `lm`, not a data frame, and this will result in an error since `do` is expecting a data frame as output."
      ],
      "id": "possible-deadline"
    },
    {
      "cell_type": "code",
      "metadata": {
        "id": "classical-passport"
      },
      "source": [
        "%%R\n",
        "dat %>%  \n",
        "  group_by(HR) %>%\n",
        "  do(lm(R ~ BB, data = .))"
      ],
      "id": "classical-passport",
      "execution_count": null,
      "outputs": []
    },
    {
      "cell_type": "markdown",
      "metadata": {
        "id": "timely-container"
      },
      "source": [
        "`Error: Results 1, 2, 3, 4, 5, ... must be data frames, not lm`\n",
        "\n",
        "\n",
        "For a useful data frame to be constructed, the output of the function must be a data frame too. We could build a function that returns only what we want in the form of a data frame:"
      ],
      "id": "timely-container"
    },
    {
      "cell_type": "code",
      "metadata": {
        "id": "utility-glossary"
      },
      "source": [
        "%%R\n",
        "get_slope <- function(data){\n",
        "  fit <- lm(R ~ BB, data = data)\n",
        "  data.frame(slope = fit$coefficients[2], \n",
        "             se = summary(fit)$coefficient[2,2])\n",
        "}"
      ],
      "id": "utility-glossary",
      "execution_count": null,
      "outputs": []
    },
    {
      "cell_type": "markdown",
      "metadata": {
        "id": "distinct-tribute"
      },
      "source": [
        "And then use `do` **without** naming the output, since we are already getting a data frame:"
      ],
      "id": "distinct-tribute"
    },
    {
      "cell_type": "code",
      "metadata": {
        "id": "nuclear-wyoming"
      },
      "source": [
        "%%R\n",
        "dat %>%  \n",
        "  group_by(HR) %>%\n",
        "  do(get_slope(.))"
      ],
      "id": "nuclear-wyoming",
      "execution_count": null,
      "outputs": []
    },
    {
      "cell_type": "markdown",
      "metadata": {
        "id": "sought-subscriber"
      },
      "source": [
        "If we name the output, then we get something we do not want, a column containing  data frames:"
      ],
      "id": "sought-subscriber"
    },
    {
      "cell_type": "code",
      "metadata": {
        "id": "collective-malta"
      },
      "source": [
        "%%R\n",
        "dat %>%  \n",
        "  group_by(HR) %>%\n",
        "  do(slope = get_slope(.))"
      ],
      "id": "collective-malta",
      "execution_count": null,
      "outputs": []
    },
    {
      "cell_type": "markdown",
      "metadata": {
        "id": "median-toolbox"
      },
      "source": [
        "This is not very useful, so let's cover one last feature of `do`. If the data frame being returned has more than one row, these will be concatenated appropriately. Here is an example in which we return both estimated parameters:"
      ],
      "id": "median-toolbox"
    },
    {
      "cell_type": "code",
      "metadata": {
        "id": "listed-cologne"
      },
      "source": [
        "%%R\n",
        "get_lse <- function(data){\n",
        "  fit <- lm(R ~ BB, data = data)\n",
        "  data.frame(term = names(fit$coefficients),\n",
        "    slope = fit$coefficients, \n",
        "    se = summary(fit)$coefficient[,2])\n",
        "}\n",
        "\n",
        "dat %>%  \n",
        "  group_by(HR) %>%\n",
        "  do(get_lse(.))"
      ],
      "id": "listed-cologne",
      "execution_count": null,
      "outputs": []
    },
    {
      "cell_type": "markdown",
      "metadata": {
        "id": "fatal-parcel"
      },
      "source": [
        "If you think this is all a bit too complicated, you are not alone. To simplify things, we introduce the __broom__ package which was designed to facilitate the use of model fitting functions, such as `lm`, with the __tidyverse__.\n",
        "\n",
        "### The broom package\n",
        "\n",
        "Our original task was to provide an estimate and confidence interval for the slope estimates of each strata. The __broom__ package will make this quite easy.\n",
        "\n",
        "The __broom__ package has three main functions, all of which extract information from the object returned by `lm` and return it in a __tidyverse__ friendly data frame. These functions are `tidy`, `glance`, and `augment`. The `tidy` function returns estimates and related information as a data frame:"
      ],
      "id": "fatal-parcel"
    },
    {
      "cell_type": "code",
      "metadata": {
        "id": "compact-oasis"
      },
      "source": [
        "%%R\n",
        "library(broom)\n",
        "fit <- lm(R ~ BB, data = dat)\n",
        "tidy(fit)"
      ],
      "id": "compact-oasis",
      "execution_count": null,
      "outputs": []
    },
    {
      "cell_type": "markdown",
      "metadata": {
        "id": "furnished-classroom"
      },
      "source": [
        "We can add other important summaries, such as confidence intervals:"
      ],
      "id": "furnished-classroom"
    },
    {
      "cell_type": "code",
      "metadata": {
        "id": "understanding-thirty"
      },
      "source": [
        "%%R\n",
        "tidy(fit, conf.int = TRUE)"
      ],
      "id": "understanding-thirty",
      "execution_count": null,
      "outputs": []
    },
    {
      "cell_type": "markdown",
      "metadata": {
        "id": "enclosed-tender"
      },
      "source": [
        "Because the outcome is a data frame, we can immediately use it with `do` to string together the commands that produce the table we are after. Because a data frame is returned, we can filter and select the rows and columns we want, which facilitates working with __ggplot2__:"
      ],
      "id": "enclosed-tender"
    },
    {
      "cell_type": "code",
      "metadata": {
        "id": "overall-centre"
      },
      "source": [
        "%%R\n",
        "dat %>%  \n",
        "  group_by(HR) %>%\n",
        "  do(tidy(lm(R ~ BB, data = .), conf.int = TRUE)) %>%\n",
        "  filter(term == \"BB\") %>%\n",
        "  select(HR, estimate, conf.low, conf.high) %>%\n",
        "  ggplot(aes(HR, y = estimate, ymin = conf.low, ymax = conf.high)) +\n",
        "  geom_errorbar() +\n",
        "  geom_point()"
      ],
      "id": "overall-centre",
      "execution_count": null,
      "outputs": []
    },
    {
      "cell_type": "markdown",
      "metadata": {
        "id": "plastic-geology"
      },
      "source": [
        "Now we return to discussing our original task of determining if slopes changed. The plot we just made, using `do` and `tidy`, shows that the confidence intervals overlap, which provides a nice visual confirmation that our assumption that the slope does not change is safe.\n",
        "\n",
        "The other functions provided by __broom__, `glance`, and `augment`, relate to model-specific and observation-specific outcomes, respectively. Here, we can see the model fit summaries `glance` returns:"
      ],
      "id": "plastic-geology"
    },
    {
      "cell_type": "code",
      "metadata": {
        "id": "polar-canon"
      },
      "source": [
        "%%R\n",
        "glance(fit)"
      ],
      "id": "polar-canon",
      "execution_count": null,
      "outputs": []
    },
    {
      "cell_type": "markdown",
      "metadata": {
        "id": "practical-garden"
      },
      "source": [
        "You can learn more about these summaries in any regression text book. \n",
        "\n",
        "We will see an example of `augment` in the next section.\n",
        "\n",
        "\n",
        "## Exercises \n",
        "\n",
        "\n",
        "1\\. In a previous section, we computed the correlation between mothers and daughters, mothers and sons, fathers and daughters, and fathers and sons, and noticed that the highest correlation is between fathers and sons and the lowest is between mothers and sons. We can compute these correlations using:"
      ],
      "id": "practical-garden"
    },
    {
      "cell_type": "code",
      "metadata": {
        "id": "coastal-polyester"
      },
      "source": [
        "%%R\n",
        "data(\"GaltonFamilies\")\n",
        "set.seed(1)\n",
        "galton_heights <- GaltonFamilies %>%\n",
        "  group_by(family, gender) %>%\n",
        "  sample_n(1) %>%\n",
        "  ungroup()\n",
        "\n",
        "cors <- galton_heights %>% \n",
        "  gather(parent, parentHeight, father:mother) %>%\n",
        "  mutate(child = ifelse(gender == \"female\", \"daughter\", \"son\")) %>%\n",
        "  unite(pair, c(\"parent\", \"child\")) %>% \n",
        "  group_by(pair) %>%\n",
        "  summarize(cor = cor(parentHeight, childHeight))"
      ],
      "id": "coastal-polyester",
      "execution_count": null,
      "outputs": []
    },
    {
      "cell_type": "markdown",
      "metadata": {
        "id": "descending-invalid"
      },
      "source": [
        "Are these differences statistically significant? To answer this, we will compute the slopes of the regression line along with their standard errors. Start by using `lm` and the __broom__ package to compute the slopes LSE and the standard errors.\n",
        "\n",
        "\n",
        "2\\. Repeat the exercise above, but compute a confidence interval as well.\n",
        "\n",
        "   \n",
        "3\\. Plot the confidence intervals and notice that they overlap, which implies that the data is consistent with the inheritance of height being independent of sex.\n",
        "\n",
        "   \n",
        "4\\. Because we are selecting children at random, we can actually do something like a permutation test here. Repeat the computation of correlations 100 times taking a different sample each time. Hint: use similar code to what we used with simulations.\n",
        "\n",
        "5\\. Fit a linear regression model to obtain the effects of BB and HR on Runs (at the team level) in 1971. Use the `tidy` function in the __broom__ package to obtain the results in a data frame."
      ],
      "id": "descending-invalid"
    },
    {
      "cell_type": "markdown",
      "metadata": {
        "id": "accurate-desperate"
      },
      "source": [
        "7\\. Use the results of the previous exercise to plot the estimated effects of BB on runs.\n",
        "\n",
        "   \n",
        "8\\. __Advanced__. Write a function that takes R, HR, and BB as arguments and fits two linear models: **r ~ BB** and **r~BB+HR**. Then use the `do` function to obtain the `BB` for both models for each year since 1961. Then plot these against each other as a function of time.\n",
        "\n",
        "\n",
        "## Case study: Moneyball (continued)\n",
        "\n",
        "In trying to answer how well BBs predict runs, data exploration led us to a model:\n",
        "\n",
        "$$\n",
        "\\mbox{E}[R \\mid BB = x_1, HR = x_2] = \\beta_0 + \\beta_1 x_1 + \\beta_2 x_2\n",
        "$$\n",
        "\n",
        "Here, the data is approximately normal and conditional distributions were also normal. Thus, we are justified in using a linear model:\n",
        "\n",
        "$$\n",
        "Y_i = \\beta_0 + \\beta_1 x_{i,1} + \\beta_2 x_{i,2} + \\varepsilon_i\n",
        "$$\n",
        "\n",
        "with $Y_i$ runs per game for team $i$, $x_{i,1}$ walks per game, and $x_{i,2}$. To use `lm` here, we need to let the function know we have two predictor variables. So we use the `+` symbol as follows:"
      ],
      "id": "accurate-desperate"
    },
    {
      "cell_type": "code",
      "metadata": {
        "id": "boxed-marriage"
      },
      "source": [
        "import pandas as pd\n",
        "teams = pd.read_csv(\"https://raw.githubusercontent.com/tleitch/BDML/main/data/teams.csv\")\n",
        "teams = teams[(teams.yearID >=1961) & (teams.yearID <= 2001)]\n",
        "\n",
        "teams[\"BB\"] = teams[\"BB\"]/teams[\"G\"]\n",
        "teams[\"HR\"] = teams[\"HR\"]/teams[\"G\"]\n",
        "teams[\"R\"] = teams[\"R\"]/teams[\"G\"]\n",
        "team_features_1 = teams[[\"BB\",\"HR\",\"R\"]]\n",
        "team_runs = teams[\"R\"]\n",
        "reg = LinearRegression().fit(team_features_1, team_runs)"
      ],
      "id": "boxed-marriage",
      "execution_count": 5,
      "outputs": []
    },
    {
      "cell_type": "code",
      "metadata": {
        "colab": {
          "base_uri": "https://localhost:8080/"
        },
        "id": "mQ1O4vQvrc7B",
        "outputId": "0c273f64-f8c1-4702-cac8-b0b9349193e4"
      },
      "source": [
        "print (\"coefficient of regression: \")\n",
        "print (reg.coef_)"
      ],
      "id": "mQ1O4vQvrc7B",
      "execution_count": 6,
      "outputs": [
        {
          "output_type": "stream",
          "text": [
            "coefficient of regression: \n",
            "[-2.27666986e-16 -1.77635684e-15  1.00000000e+00]\n"
          ],
          "name": "stdout"
        }
      ]
    },
    {
      "cell_type": "markdown",
      "metadata": {
        "id": "NvxNbm5gq6x8"
      },
      "source": [
        "When we fit the model with only one variable, the estimated slopes were **r bb_slope** and **r hr_slope** for BB and HR, respectively. Note that when fitting the multivariate model both go down, with the BB effect decreasing much more. \n",
        "\n",
        "Now we want to construct a metric to pick players, we need to consider singles, doubles, and triples as well. Can we build a model that predicts runs based on all these outcomes? \n",
        "\n",
        "We now are going to take somewhat of a \"leap of faith\" and assume that these five variables are jointly normal. This means that if we pick any one of them, and hold the other four fixed, the relationship with the outcome is linear and the slope does not depend on the four values held constant. If this is true, then a linear model for our data is:\n",
        "\n",
        "$$\n",
        "Y_i = \\beta_0 + \\beta_1 x_{i,1} + \\beta_2 x_{i,2} + \\beta_3 x_{i,3}+ \\beta_4 x_{i,4} + \\beta_5 x_{i,5} + \\varepsilon_i\n",
        "$$\n",
        "\n",
        "with $x_{i,1}, x_{i,2}, x_{i,3}, x_{i,4}, x_{i,5}$ representing BB, singles, doubles, triples, and HR respectively. \n"
      ],
      "id": "NvxNbm5gq6x8"
    },
    {
      "cell_type": "code",
      "metadata": {
        "id": "29fwk_7goJH4"
      },
      "source": [
        "\n",
        "teams[\"singles\"] = (teams[\"H\"] - teams[\"X2B\"] - teams[\"X3B\"] - teams[\"HR\"])/teams[\"G\"]\n",
        "teams[\"doubles\"] =  teams[\"X2B\"]/teams[\"G\"]\n",
        "teams[\"triples\"] = teams[\"X3B\"]/teams[\"G\"]\n",
        "team_features_2 = teams[[\"BB\",\"singles\",\"doubles\",\"triples\",\"HR\"]]\n",
        "\n",
        "reg = LinearRegression().fit(team_features_2, team_runs)\n",
        "#reg.score(team_features,team_runs)"
      ],
      "id": "29fwk_7goJH4",
      "execution_count": 9,
      "outputs": []
    },
    {
      "cell_type": "code",
      "metadata": {
        "id": "2mPBqr0IosYG",
        "colab": {
          "base_uri": "https://localhost:8080/"
        },
        "outputId": "167fcf59-42d9-4836-d636-6eb9378ade57"
      },
      "source": [
        "print (\"coefficient of regression: \")\n",
        "print (reg.coef_)"
      ],
      "id": "2mPBqr0IosYG",
      "execution_count": 10,
      "outputs": [
        {
          "output_type": "stream",
          "text": [
            "coefficient of regression: \n",
            "[0.37123758 0.51941141 0.77130071 1.23992593 0.92717393]\n"
          ],
          "name": "stdout"
        }
      ]
    },
    {
      "cell_type": "markdown",
      "metadata": {
        "id": "golden-budget"
      },
      "source": [
        "\n",
        "\n",
        "So instead of using batting average, or just number of HR, as a measure of picking players, we can use our fitted model to form a metric that relates more directly to run production. Specifically, to define a metric for player A, we imagine a team made up of players just like player A and use our fitted regression model to predict how many runs this team would produce. The formula would look like this: \n",
        "\n",
        "\n",
        "\n",
        "To define a player-specific metric, we have a bit more work to do. A challenge here is that we derived the metric for teams, based on team-level summary statistics. For example, the HR value that is entered into the equation is HR per game for the entire team. If we compute the HR per game for a player, it will be much lower since the total is accumulated by 9 batters. Furthermore, if a player only plays part of the game and gets fewer opportunities than average, it is still considered a game played. For players, a rate that takes into account opportunities is the per-plate-appearance rate. \n",
        "\n",
        "To make the per-game team rate comparable to the per-plate-appearance player rate, we compute the average number of team plate appearances per game:"
      ],
      "id": "golden-budget"
    },
    {
      "cell_type": "code",
      "metadata": {
        "id": "pobDXjF3qiPX"
      },
      "source": [
        "batting=pd.read_csv(\"https://raw.githubusercontent.com/tleitch/BDML/main/data/Batting.csv\")\n"
      ],
      "id": "pobDXjF3qiPX",
      "execution_count": 22,
      "outputs": []
    },
    {
      "cell_type": "code",
      "metadata": {
        "id": "utelEp_osobc"
      },
      "source": [
        "def extract_pa_per_game(df):\n",
        "    \n",
        "    pa_per_game = (df['AB'].sum() + df[\"BB\"].sum())/df[\"G\"].max()\n",
        "    \n",
        "    return pa_per_game\n"
      ],
      "id": "utelEp_osobc",
      "execution_count": 23,
      "outputs": []
    },
    {
      "cell_type": "code",
      "metadata": {
        "id": "HJI9UNSFspaT"
      },
      "source": [
        "pa_per_game=batting[batting.yearID ==2002].groupby('teamID').apply(extract_pa_per_game)\n",
        "average_pa_teamwise = pa_per_game.mean()"
      ],
      "id": "HJI9UNSFspaT",
      "execution_count": 24,
      "outputs": []
    },
    {
      "cell_type": "markdown",
      "metadata": {
        "id": "german-extra"
      },
      "source": [
        "We compute the per-plate-appearance rates for players available in 2002 on data from 1997-2001. To avoid small sample artifacts, we filter players with less than 200 plate appearances per year. Here is the entire calculation in one line:"
      ],
      "id": "german-extra"
    },
    {
      "cell_type": "code",
      "metadata": {
        "id": "LcIo0qH0sxvu"
      },
      "source": [
        "batting[\"PA\"] = batting[\"AB\"] + batting[\"BB\"]\n",
        "batting[\"singles\"] = batting[\"H\"] - batting[\"X2B\"] - batting[\"X3B\"] - batting[\"HR\"]\n",
        "\n",
        "players = batting[(batting.yearID >= 1997) & (batting.yearID <=2001)].groupby('playerID').agg(PA_sum = (\"PA\",sum),HR_sum=(\"HR\",sum),BB_sum=(\"BB\",sum),singles_sum=(\"singles\",sum),doubles_sum=(\"X2B\",sum),triples_sum=(\"X3B\",sum),AB_sum=(\"AB\",sum),H_sum=(\"H\",sum))\n",
        "players[\"Average_PA\"] = players[\"PA_sum\"]/average_pa_teamwise\n",
        "players[\"HR\"] = players[\"HR_sum\"]/players[\"Average_PA\"]\n",
        "players[\"BB\"] = players[\"BB_sum\"]/players[\"Average_PA\"]\n",
        "players[\"singles\"] = players[\"singles_sum\"]/players[\"Average_PA\"]\n",
        "players[\"doubles\"] = players[\"doubles_sum\"]/players['Average_PA']\n",
        "players[\"triples\"] = players[\"triples_sum\"]/players[\"Average_PA\"]\n",
        "players[\"Average\"] = players[\"H_sum\"]/players[\"AB_sum\"]\n",
        "players = players[players.PA_sum >= 1000]"
      ],
      "id": "LcIo0qH0sxvu",
      "execution_count": 25,
      "outputs": []
    },
    {
      "cell_type": "code",
      "metadata": {
        "id": "cd5z5LiJtMmN",
        "colab": {
          "base_uri": "https://localhost:8080/",
          "height": 235
        },
        "outputId": "3df2c775-4f2c-4cc2-8fca-c676c77d68f0"
      },
      "source": [
        "players_features = players[[\"HR\",\"BB\",\"singles\",\"doubles\",\"triples\"]]\n",
        "players_features.head()"
      ],
      "id": "cd5z5LiJtMmN",
      "execution_count": 26,
      "outputs": [
        {
          "output_type": "execute_result",
          "data": {
            "text/html": [
              "<div>\n",
              "<style scoped>\n",
              "    .dataframe tbody tr th:only-of-type {\n",
              "        vertical-align: middle;\n",
              "    }\n",
              "\n",
              "    .dataframe tbody tr th {\n",
              "        vertical-align: top;\n",
              "    }\n",
              "\n",
              "    .dataframe thead th {\n",
              "        text-align: right;\n",
              "    }\n",
              "</style>\n",
              "<table border=\"1\" class=\"dataframe\">\n",
              "  <thead>\n",
              "    <tr style=\"text-align: right;\">\n",
              "      <th></th>\n",
              "      <th>HR</th>\n",
              "      <th>BB</th>\n",
              "      <th>singles</th>\n",
              "      <th>doubles</th>\n",
              "      <th>triples</th>\n",
              "    </tr>\n",
              "    <tr>\n",
              "      <th>playerID</th>\n",
              "      <th></th>\n",
              "      <th></th>\n",
              "      <th></th>\n",
              "      <th></th>\n",
              "      <th></th>\n",
              "    </tr>\n",
              "  </thead>\n",
              "  <tbody>\n",
              "    <tr>\n",
              "      <th>abreubo01</th>\n",
              "      <td>1.321375</td>\n",
              "      <td>5.781016</td>\n",
              "      <td>6.111359</td>\n",
              "      <td>2.257349</td>\n",
              "      <td>0.454223</td>\n",
              "    </tr>\n",
              "    <tr>\n",
              "      <th>agbaybe01</th>\n",
              "      <td>1.279368</td>\n",
              "      <td>4.496064</td>\n",
              "      <td>6.287179</td>\n",
              "      <td>1.864222</td>\n",
              "      <td>0.219320</td>\n",
              "    </tr>\n",
              "    <tr>\n",
              "      <th>alfoned01</th>\n",
              "      <td>1.214388</td>\n",
              "      <td>4.541305</td>\n",
              "      <td>6.767683</td>\n",
              "      <td>1.998680</td>\n",
              "      <td>0.088549</td>\n",
              "    </tr>\n",
              "    <tr>\n",
              "      <th>alicelu01</th>\n",
              "      <td>0.475905</td>\n",
              "      <td>4.283142</td>\n",
              "      <td>6.722153</td>\n",
              "      <td>1.626007</td>\n",
              "      <td>0.436246</td>\n",
              "    </tr>\n",
              "    <tr>\n",
              "      <th>alomaro01</th>\n",
              "      <td>1.141080</td>\n",
              "      <td>4.288455</td>\n",
              "      <td>7.310437</td>\n",
              "      <td>2.169306</td>\n",
              "      <td>0.250787</td>\n",
              "    </tr>\n",
              "  </tbody>\n",
              "</table>\n",
              "</div>"
            ],
            "text/plain": [
              "                 HR        BB   singles   doubles   triples\n",
              "playerID                                                   \n",
              "abreubo01  1.321375  5.781016  6.111359  2.257349  0.454223\n",
              "agbaybe01  1.279368  4.496064  6.287179  1.864222  0.219320\n",
              "alfoned01  1.214388  4.541305  6.767683  1.998680  0.088549\n",
              "alicelu01  0.475905  4.283142  6.722153  1.626007  0.436246\n",
              "alomaro01  1.141080  4.288455  7.310437  2.169306  0.250787"
            ]
          },
          "metadata": {
            "tags": []
          },
          "execution_count": 26
        }
      ]
    },
    {
      "cell_type": "code",
      "metadata": {
        "id": "wOD1eFcxtOiB",
        "colab": {
          "base_uri": "https://localhost:8080/",
          "height": 235
        },
        "outputId": "29cc8215-5fb6-49a1-c097-5918deea0b82"
      },
      "source": [
        "#players_features[\"R_hat\"]=(reg.predict(players_features))\n",
        "players_features[\"R_hat\"]=(reg.predict(players_features))\n",
        "players_features.head()"
      ],
      "id": "wOD1eFcxtOiB",
      "execution_count": 28,
      "outputs": [
        {
          "output_type": "execute_result",
          "data": {
            "text/html": [
              "<div>\n",
              "<style scoped>\n",
              "    .dataframe tbody tr th:only-of-type {\n",
              "        vertical-align: middle;\n",
              "    }\n",
              "\n",
              "    .dataframe tbody tr th {\n",
              "        vertical-align: top;\n",
              "    }\n",
              "\n",
              "    .dataframe thead th {\n",
              "        text-align: right;\n",
              "    }\n",
              "</style>\n",
              "<table border=\"1\" class=\"dataframe\">\n",
              "  <thead>\n",
              "    <tr style=\"text-align: right;\">\n",
              "      <th></th>\n",
              "      <th>HR</th>\n",
              "      <th>BB</th>\n",
              "      <th>singles</th>\n",
              "      <th>doubles</th>\n",
              "      <th>triples</th>\n",
              "      <th>R_hat</th>\n",
              "    </tr>\n",
              "    <tr>\n",
              "      <th>playerID</th>\n",
              "      <th></th>\n",
              "      <th></th>\n",
              "      <th></th>\n",
              "      <th></th>\n",
              "      <th></th>\n",
              "      <th></th>\n",
              "    </tr>\n",
              "  </thead>\n",
              "  <tbody>\n",
              "    <tr>\n",
              "      <th>abreubo01</th>\n",
              "      <td>1.321375</td>\n",
              "      <td>5.781016</td>\n",
              "      <td>6.111359</td>\n",
              "      <td>2.257349</td>\n",
              "      <td>0.454223</td>\n",
              "      <td>8.657520</td>\n",
              "    </tr>\n",
              "    <tr>\n",
              "      <th>agbaybe01</th>\n",
              "      <td>1.279368</td>\n",
              "      <td>4.496064</td>\n",
              "      <td>6.287179</td>\n",
              "      <td>1.864222</td>\n",
              "      <td>0.219320</td>\n",
              "      <td>7.404873</td>\n",
              "    </tr>\n",
              "    <tr>\n",
              "      <th>alfoned01</th>\n",
              "      <td>1.214388</td>\n",
              "      <td>4.541305</td>\n",
              "      <td>6.767683</td>\n",
              "      <td>1.998680</td>\n",
              "      <td>0.088549</td>\n",
              "      <td>7.820334</td>\n",
              "    </tr>\n",
              "    <tr>\n",
              "      <th>alicelu01</th>\n",
              "      <td>0.475905</td>\n",
              "      <td>4.283142</td>\n",
              "      <td>6.722153</td>\n",
              "      <td>1.626007</td>\n",
              "      <td>0.436246</td>\n",
              "      <td>7.237259</td>\n",
              "    </tr>\n",
              "    <tr>\n",
              "      <th>alomaro01</th>\n",
              "      <td>1.141080</td>\n",
              "      <td>4.288455</td>\n",
              "      <td>7.310437</td>\n",
              "      <td>2.169306</td>\n",
              "      <td>0.250787</td>\n",
              "      <td>8.442398</td>\n",
              "    </tr>\n",
              "  </tbody>\n",
              "</table>\n",
              "</div>"
            ],
            "text/plain": [
              "                 HR        BB   singles   doubles   triples     R_hat\n",
              "playerID                                                             \n",
              "abreubo01  1.321375  5.781016  6.111359  2.257349  0.454223  8.657520\n",
              "agbaybe01  1.279368  4.496064  6.287179  1.864222  0.219320  7.404873\n",
              "alfoned01  1.214388  4.541305  6.767683  1.998680  0.088549  7.820334\n",
              "alicelu01  0.475905  4.283142  6.722153  1.626007  0.436246  7.237259\n",
              "alomaro01  1.141080  4.288455  7.310437  2.169306  0.250787  8.442398"
            ]
          },
          "metadata": {
            "tags": []
          },
          "execution_count": 28
        }
      ]
    },
    {
      "cell_type": "code",
      "metadata": {
        "id": "HhEEJumduPmn",
        "colab": {
          "base_uri": "https://localhost:8080/",
          "height": 204
        },
        "outputId": "5ebe5baf-136e-4554-86a7-5a99c5d22a4a"
      },
      "source": [
        "master = pd.read_csv(\"https://raw.githubusercontent.com/tleitch/BDML/main/data/master.csv\")\n",
        "players_features  =  pd.merge(master[[\"playerID\",\"nameFirst\",\"nameLast\"]],players_features,on=\"playerID\")\n",
        "players_features.head()"
      ],
      "id": "HhEEJumduPmn",
      "execution_count": 29,
      "outputs": [
        {
          "output_type": "execute_result",
          "data": {
            "text/html": [
              "<div>\n",
              "<style scoped>\n",
              "    .dataframe tbody tr th:only-of-type {\n",
              "        vertical-align: middle;\n",
              "    }\n",
              "\n",
              "    .dataframe tbody tr th {\n",
              "        vertical-align: top;\n",
              "    }\n",
              "\n",
              "    .dataframe thead th {\n",
              "        text-align: right;\n",
              "    }\n",
              "</style>\n",
              "<table border=\"1\" class=\"dataframe\">\n",
              "  <thead>\n",
              "    <tr style=\"text-align: right;\">\n",
              "      <th></th>\n",
              "      <th>playerID</th>\n",
              "      <th>nameFirst</th>\n",
              "      <th>nameLast</th>\n",
              "      <th>HR</th>\n",
              "      <th>BB</th>\n",
              "      <th>singles</th>\n",
              "      <th>doubles</th>\n",
              "      <th>triples</th>\n",
              "      <th>R_hat</th>\n",
              "    </tr>\n",
              "  </thead>\n",
              "  <tbody>\n",
              "    <tr>\n",
              "      <th>0</th>\n",
              "      <td>abreubo01</td>\n",
              "      <td>Bobby</td>\n",
              "      <td>Abreu</td>\n",
              "      <td>1.321375</td>\n",
              "      <td>5.781016</td>\n",
              "      <td>6.111359</td>\n",
              "      <td>2.257349</td>\n",
              "      <td>0.454223</td>\n",
              "      <td>8.657520</td>\n",
              "    </tr>\n",
              "    <tr>\n",
              "      <th>1</th>\n",
              "      <td>agbaybe01</td>\n",
              "      <td>Benny</td>\n",
              "      <td>Agbayani</td>\n",
              "      <td>1.279368</td>\n",
              "      <td>4.496064</td>\n",
              "      <td>6.287179</td>\n",
              "      <td>1.864222</td>\n",
              "      <td>0.219320</td>\n",
              "      <td>7.404873</td>\n",
              "    </tr>\n",
              "    <tr>\n",
              "      <th>2</th>\n",
              "      <td>alfoned01</td>\n",
              "      <td>Edgardo</td>\n",
              "      <td>Alfonzo</td>\n",
              "      <td>1.214388</td>\n",
              "      <td>4.541305</td>\n",
              "      <td>6.767683</td>\n",
              "      <td>1.998680</td>\n",
              "      <td>0.088549</td>\n",
              "      <td>7.820334</td>\n",
              "    </tr>\n",
              "    <tr>\n",
              "      <th>3</th>\n",
              "      <td>alicelu01</td>\n",
              "      <td>Luis</td>\n",
              "      <td>Alicea</td>\n",
              "      <td>0.475905</td>\n",
              "      <td>4.283142</td>\n",
              "      <td>6.722153</td>\n",
              "      <td>1.626007</td>\n",
              "      <td>0.436246</td>\n",
              "      <td>7.237259</td>\n",
              "    </tr>\n",
              "    <tr>\n",
              "      <th>4</th>\n",
              "      <td>alomaro01</td>\n",
              "      <td>Roberto</td>\n",
              "      <td>Alomar</td>\n",
              "      <td>1.141080</td>\n",
              "      <td>4.288455</td>\n",
              "      <td>7.310437</td>\n",
              "      <td>2.169306</td>\n",
              "      <td>0.250787</td>\n",
              "      <td>8.442398</td>\n",
              "    </tr>\n",
              "  </tbody>\n",
              "</table>\n",
              "</div>"
            ],
            "text/plain": [
              "    playerID nameFirst  nameLast  ...   doubles   triples     R_hat\n",
              "0  abreubo01     Bobby     Abreu  ...  2.257349  0.454223  8.657520\n",
              "1  agbaybe01     Benny  Agbayani  ...  1.864222  0.219320  7.404873\n",
              "2  alfoned01   Edgardo   Alfonzo  ...  1.998680  0.088549  7.820334\n",
              "3  alicelu01      Luis    Alicea  ...  1.626007  0.436246  7.237259\n",
              "4  alomaro01   Roberto    Alomar  ...  2.169306  0.250787  8.442398\n",
              "\n",
              "[5 rows x 9 columns]"
            ]
          },
          "metadata": {
            "tags": []
          },
          "execution_count": 29
        }
      ]
    },
    {
      "cell_type": "markdown",
      "metadata": {
        "id": "governing-sharp"
      },
      "source": [
        "The player-specific predicted runs computed here can be interpreted as the number of runs we predict a team will score if all batters are exactly like that player. The distribution shows that there is wide variability across players:"
      ],
      "id": "governing-sharp"
    },
    {
      "cell_type": "code",
      "metadata": {
        "colab": {
          "base_uri": "https://localhost:8080/",
          "height": 513
        },
        "id": "OeBRz3Gx3AM2",
        "outputId": "1f86089f-e2d7-4ff8-9869-1aed5de11d97"
      },
      "source": [
        "n_bins = 50\n",
        "fig, axs = plt.subplots(1, 1,\n",
        "                        figsize =(10, 7), \n",
        "                        tight_layout = True)\n",
        "#plt.hist(x=players_features[\"R_hat\"])  \n",
        "hist_df=axs.hist(x=players_features[\"R_hat\"], bins = n_bins)"
      ],
      "id": "OeBRz3Gx3AM2",
      "execution_count": 32,
      "outputs": [
        {
          "output_type": "display_data",
          "data": {
            "image/png": "[encoded data removed]",
            "text/plain": [
              "<Figure size 720x504 with 1 Axes>"
            ]
          },
          "metadata": {
            "tags": [],
            "needs_background": "light"
          }
        }
      ]
    },
    {
      "cell_type": "markdown",
      "metadata": {
        "id": "dying-valve"
      },
      "source": [
        "### Adding salary and position information\n",
        "\n",
        "To actually build the team, we will need to know their salaries as well as their defensive position. For this, we join the **players** data frame we just created with the player information data frame included in some of the other Lahman data tables. We will learn more about the join function we learned in Section \\@ref(joins). \n",
        "\n",
        "Start by adding the 2002 salary of each player:"
      ],
      "id": "dying-valve"
    },
    {
      "cell_type": "code",
      "metadata": {
        "id": "Mor5b6w4uh_f"
      },
      "source": [
        "Salaries=pd.read_csv(\"https://raw.githubusercontent.com/tleitch/BDML/main/data/salaries.csv\")\n",
        "salaries_yr_2002 =Salaries[Salaries.yearID==2002]\n",
        "salaries_yr_2002= salaries_yr_2002[[\"playerID\",\"salary\"]]"
      ],
      "id": "Mor5b6w4uh_f",
      "execution_count": 48,
      "outputs": []
    },
    {
      "cell_type": "code",
      "metadata": {
        "id": "fIUAnLt3uumh",
        "colab": {
          "base_uri": "https://localhost:8080/",
          "height": 204
        },
        "outputId": "923c093d-a5a4-4fae-a2b3-793670157d66"
      },
      "source": [
        "player_insights = pd.merge(salaries_yr_2002, players_features, on='playerID')\n",
        "player_insights.head()"
      ],
      "id": "fIUAnLt3uumh",
      "execution_count": 49,
      "outputs": [
        {
          "output_type": "execute_result",
          "data": {
            "text/html": [
              "<div>\n",
              "<style scoped>\n",
              "    .dataframe tbody tr th:only-of-type {\n",
              "        vertical-align: middle;\n",
              "    }\n",
              "\n",
              "    .dataframe tbody tr th {\n",
              "        vertical-align: top;\n",
              "    }\n",
              "\n",
              "    .dataframe thead th {\n",
              "        text-align: right;\n",
              "    }\n",
              "</style>\n",
              "<table border=\"1\" class=\"dataframe\">\n",
              "  <thead>\n",
              "    <tr style=\"text-align: right;\">\n",
              "      <th></th>\n",
              "      <th>playerID</th>\n",
              "      <th>salary</th>\n",
              "      <th>nameFirst</th>\n",
              "      <th>nameLast</th>\n",
              "      <th>HR</th>\n",
              "      <th>BB</th>\n",
              "      <th>singles</th>\n",
              "      <th>doubles</th>\n",
              "      <th>triples</th>\n",
              "      <th>R_hat</th>\n",
              "    </tr>\n",
              "  </thead>\n",
              "  <tbody>\n",
              "    <tr>\n",
              "      <th>0</th>\n",
              "      <td>anderga01</td>\n",
              "      <td>5000000</td>\n",
              "      <td>Garret</td>\n",
              "      <td>Anderson</td>\n",
              "      <td>1.245384</td>\n",
              "      <td>1.676031</td>\n",
              "      <td>7.251160</td>\n",
              "      <td>2.234707</td>\n",
              "      <td>0.197865</td>\n",
              "      <td>7.110501</td>\n",
              "    </tr>\n",
              "    <tr>\n",
              "      <th>1</th>\n",
              "      <td>erstada01</td>\n",
              "      <td>6250000</td>\n",
              "      <td>Darin</td>\n",
              "      <td>Erstad</td>\n",
              "      <td>0.982139</td>\n",
              "      <td>3.197939</td>\n",
              "      <td>7.198358</td>\n",
              "      <td>2.024164</td>\n",
              "      <td>0.227569</td>\n",
              "      <td>7.529027</td>\n",
              "    </tr>\n",
              "    <tr>\n",
              "      <th>2</th>\n",
              "      <td>fabrejo01</td>\n",
              "      <td>500000</td>\n",
              "      <td>Jorge</td>\n",
              "      <td>Fabregas</td>\n",
              "      <td>0.583429</td>\n",
              "      <td>2.230759</td>\n",
              "      <td>6.623638</td>\n",
              "      <td>1.132539</td>\n",
              "      <td>0.171597</td>\n",
              "      <td>5.277921</td>\n",
              "    </tr>\n",
              "    <tr>\n",
              "      <th>3</th>\n",
              "      <td>fullmbr01</td>\n",
              "      <td>4000000</td>\n",
              "      <td>Brad</td>\n",
              "      <td>Fullmer</td>\n",
              "      <td>1.433642</td>\n",
              "      <td>2.504095</td>\n",
              "      <td>5.906606</td>\n",
              "      <td>2.676132</td>\n",
              "      <td>0.133807</td>\n",
              "      <td>7.061380</td>\n",
              "    </tr>\n",
              "    <tr>\n",
              "      <th>4</th>\n",
              "      <td>glaustr01</td>\n",
              "      <td>4000000</td>\n",
              "      <td>Troy</td>\n",
              "      <td>Glaus</td>\n",
              "      <td>2.105016</td>\n",
              "      <td>5.440932</td>\n",
              "      <td>4.299228</td>\n",
              "      <td>2.015821</td>\n",
              "      <td>0.053517</td>\n",
              "      <td>6.703095</td>\n",
              "    </tr>\n",
              "  </tbody>\n",
              "</table>\n",
              "</div>"
            ],
            "text/plain": [
              "    playerID   salary nameFirst  ...   doubles   triples     R_hat\n",
              "0  anderga01  5000000    Garret  ...  2.234707  0.197865  7.110501\n",
              "1  erstada01  6250000     Darin  ...  2.024164  0.227569  7.529027\n",
              "2  fabrejo01   500000     Jorge  ...  1.132539  0.171597  5.277921\n",
              "3  fullmbr01  4000000      Brad  ...  2.676132  0.133807  7.061380\n",
              "4  glaustr01  4000000      Troy  ...  2.015821  0.053517  6.703095\n",
              "\n",
              "[5 rows x 10 columns]"
            ]
          },
          "metadata": {
            "tags": []
          },
          "execution_count": 49
        }
      ]
    },
    {
      "cell_type": "code",
      "metadata": {
        "colab": {
          "base_uri": "https://localhost:8080/",
          "height": 204
        },
        "id": "4bAY083TEi0O",
        "outputId": "11681bd8-068f-48b7-9c61-cd24a59000e5"
      },
      "source": [
        "player_insights = player_insights.sort_values(by=['R_hat'], ascending=False)\n",
        "player_insights.head()"
      ],
      "id": "4bAY083TEi0O",
      "execution_count": 74,
      "outputs": [
        {
          "output_type": "execute_result",
          "data": {
            "text/html": [
              "<div>\n",
              "<style scoped>\n",
              "    .dataframe tbody tr th:only-of-type {\n",
              "        vertical-align: middle;\n",
              "    }\n",
              "\n",
              "    .dataframe tbody tr th {\n",
              "        vertical-align: top;\n",
              "    }\n",
              "\n",
              "    .dataframe thead th {\n",
              "        text-align: right;\n",
              "    }\n",
              "</style>\n",
              "<table border=\"1\" class=\"dataframe\">\n",
              "  <thead>\n",
              "    <tr style=\"text-align: right;\">\n",
              "      <th></th>\n",
              "      <th>playerID</th>\n",
              "      <th>salary</th>\n",
              "      <th>nameFirst</th>\n",
              "      <th>nameLast</th>\n",
              "      <th>HR</th>\n",
              "      <th>BB</th>\n",
              "      <th>singles</th>\n",
              "      <th>doubles</th>\n",
              "      <th>triples</th>\n",
              "      <th>R_hat</th>\n",
              "    </tr>\n",
              "  </thead>\n",
              "  <tbody>\n",
              "    <tr>\n",
              "      <th>90</th>\n",
              "      <td>walkela01</td>\n",
              "      <td>12666667</td>\n",
              "      <td>Larry</td>\n",
              "      <td>Walker</td>\n",
              "      <td>2.326584</td>\n",
              "      <td>4.876878</td>\n",
              "      <td>6.845525</td>\n",
              "      <td>2.595036</td>\n",
              "      <td>0.313194</td>\n",
              "      <td>9.415283</td>\n",
              "    </tr>\n",
              "    <tr>\n",
              "      <th>222</th>\n",
              "      <td>martied01</td>\n",
              "      <td>7086668</td>\n",
              "      <td>Edgar</td>\n",
              "      <td>Martinez</td>\n",
              "      <td>1.741558</td>\n",
              "      <td>6.311602</td>\n",
              "      <td>6.410414</td>\n",
              "      <td>2.309725</td>\n",
              "      <td>0.049406</td>\n",
              "      <td>9.009369</td>\n",
              "    </tr>\n",
              "    <tr>\n",
              "      <th>87</th>\n",
              "      <td>heltoto01</td>\n",
              "      <td>5000000</td>\n",
              "      <td>Todd</td>\n",
              "      <td>Helton</td>\n",
              "      <td>2.240350</td>\n",
              "      <td>4.739202</td>\n",
              "      <td>6.218408</td>\n",
              "      <td>2.742993</td>\n",
              "      <td>0.157973</td>\n",
              "      <td>8.867603</td>\n",
              "    </tr>\n",
              "    <tr>\n",
              "      <th>174</th>\n",
              "      <td>willibe02</td>\n",
              "      <td>12357143</td>\n",
              "      <td>Bernie</td>\n",
              "      <td>Williams</td>\n",
              "      <td>1.614440</td>\n",
              "      <td>4.994675</td>\n",
              "      <td>6.937048</td>\n",
              "      <td>2.118953</td>\n",
              "      <td>0.290095</td>\n",
              "      <td>8.670962</td>\n",
              "    </tr>\n",
              "    <tr>\n",
              "      <th>194</th>\n",
              "      <td>abreubo01</td>\n",
              "      <td>6333333</td>\n",
              "      <td>Bobby</td>\n",
              "      <td>Abreu</td>\n",
              "      <td>1.321375</td>\n",
              "      <td>5.781016</td>\n",
              "      <td>6.111359</td>\n",
              "      <td>2.257349</td>\n",
              "      <td>0.454223</td>\n",
              "      <td>8.657520</td>\n",
              "    </tr>\n",
              "  </tbody>\n",
              "</table>\n",
              "</div>"
            ],
            "text/plain": [
              "      playerID    salary nameFirst  ...   doubles   triples     R_hat\n",
              "90   walkela01  12666667     Larry  ...  2.595036  0.313194  9.415283\n",
              "222  martied01   7086668     Edgar  ...  2.309725  0.049406  9.009369\n",
              "87   heltoto01   5000000      Todd  ...  2.742993  0.157973  8.867603\n",
              "174  willibe02  12357143    Bernie  ...  2.118953  0.290095  8.670962\n",
              "194  abreubo01   6333333     Bobby  ...  2.257349  0.454223  8.657520\n",
              "\n",
              "[5 rows x 10 columns]"
            ]
          },
          "metadata": {
            "tags": []
          },
          "execution_count": 74
        }
      ]
    },
    {
      "cell_type": "markdown",
      "metadata": {
        "id": "Sb0rnDedFOnQ"
      },
      "source": [
        "We can see from the above dataframe that there are players whose salary is less but have a better estimate of predicted runs."
      ],
      "id": "Sb0rnDedFOnQ"
    },
    {
      "cell_type": "markdown",
      "metadata": {
        "id": "enhanced-scratch"
      },
      "source": [
        "Next, we add their defensive position. This is a somewhat complicated task because players play more than one position each year.  However, because some players are traded, they appear more than once on the table, so we first sum their appearances across teams.\n",
        "We also remove the **OF** position which stands for outfielder, a generalization of three positions: left field (LF), center field (CF), and right field (RF). We also remove pitchers since they don't bat in the league in which the A's play."
      ],
      "id": "enhanced-scratch"
    },
    {
      "cell_type": "code",
      "metadata": {
        "id": "ZBMS64Rcu5S4"
      },
      "source": [
        "appearances = pd.read_csv(\"https://raw.githubusercontent.com/tleitch/BDML/main/data/appearances.csv\")"
      ],
      "id": "ZBMS64Rcu5S4",
      "execution_count": 50,
      "outputs": []
    },
    {
      "cell_type": "code",
      "metadata": {
        "id": "-wcXqGnzvC4I"
      },
      "source": [
        "append_str = 'G_'\n",
        "position_names = [\"p\",\"c\",\"1b\",\"2b\",\"3b\",\"ss\",\"lf\",\"cf\",\"rf\", \"dh\"]\n",
        "position_names = [append_str + sub for sub in position_names]"
      ],
      "id": "-wcXqGnzvC4I",
      "execution_count": 51,
      "outputs": []
    },
    {
      "cell_type": "code",
      "metadata": {
        "id": "0EGzBpZHvIC9"
      },
      "source": [
        "operations_dict = {}\n",
        "for term in position_names:\n",
        "    operations_dict[term] = \"sum\""
      ],
      "id": "0EGzBpZHvIC9",
      "execution_count": 52,
      "outputs": []
    },
    {
      "cell_type": "code",
      "metadata": {
        "id": "wkMdX2D5vLio"
      },
      "source": [
        "result = appearances[appearances.yearID == 2002].groupby(\"playerID\").agg(operations_dict)"
      ],
      "id": "wkMdX2D5vLio",
      "execution_count": 53,
      "outputs": []
    },
    {
      "cell_type": "code",
      "metadata": {
        "id": "i7btBmMbeCd9",
        "colab": {
          "base_uri": "https://localhost:8080/",
          "height": 235
        },
        "outputId": "bbeb25ad-303b-4482-c765-b47772a6b424"
      },
      "source": [
        "result.head()"
      ],
      "id": "i7btBmMbeCd9",
      "execution_count": 54,
      "outputs": [
        {
          "output_type": "execute_result",
          "data": {
            "text/html": [
              "<div>\n",
              "<style scoped>\n",
              "    .dataframe tbody tr th:only-of-type {\n",
              "        vertical-align: middle;\n",
              "    }\n",
              "\n",
              "    .dataframe tbody tr th {\n",
              "        vertical-align: top;\n",
              "    }\n",
              "\n",
              "    .dataframe thead th {\n",
              "        text-align: right;\n",
              "    }\n",
              "</style>\n",
              "<table border=\"1\" class=\"dataframe\">\n",
              "  <thead>\n",
              "    <tr style=\"text-align: right;\">\n",
              "      <th></th>\n",
              "      <th>G_p</th>\n",
              "      <th>G_c</th>\n",
              "      <th>G_1b</th>\n",
              "      <th>G_2b</th>\n",
              "      <th>G_3b</th>\n",
              "      <th>G_ss</th>\n",
              "      <th>G_lf</th>\n",
              "      <th>G_cf</th>\n",
              "      <th>G_rf</th>\n",
              "      <th>G_dh</th>\n",
              "    </tr>\n",
              "    <tr>\n",
              "      <th>playerID</th>\n",
              "      <th></th>\n",
              "      <th></th>\n",
              "      <th></th>\n",
              "      <th></th>\n",
              "      <th></th>\n",
              "      <th></th>\n",
              "      <th></th>\n",
              "      <th></th>\n",
              "      <th></th>\n",
              "      <th></th>\n",
              "    </tr>\n",
              "  </thead>\n",
              "  <tbody>\n",
              "    <tr>\n",
              "      <th>abbotpa01</th>\n",
              "      <td>7</td>\n",
              "      <td>0</td>\n",
              "      <td>0</td>\n",
              "      <td>0</td>\n",
              "      <td>0</td>\n",
              "      <td>0</td>\n",
              "      <td>0</td>\n",
              "      <td>0</td>\n",
              "      <td>0</td>\n",
              "      <td>0.0</td>\n",
              "    </tr>\n",
              "    <tr>\n",
              "      <th>abernbr01</th>\n",
              "      <td>0</td>\n",
              "      <td>0</td>\n",
              "      <td>0</td>\n",
              "      <td>116</td>\n",
              "      <td>0</td>\n",
              "      <td>0</td>\n",
              "      <td>0</td>\n",
              "      <td>0</td>\n",
              "      <td>0</td>\n",
              "      <td>1.0</td>\n",
              "    </tr>\n",
              "    <tr>\n",
              "      <th>abreubo01</th>\n",
              "      <td>0</td>\n",
              "      <td>0</td>\n",
              "      <td>0</td>\n",
              "      <td>0</td>\n",
              "      <td>0</td>\n",
              "      <td>0</td>\n",
              "      <td>0</td>\n",
              "      <td>18</td>\n",
              "      <td>148</td>\n",
              "      <td>0.0</td>\n",
              "    </tr>\n",
              "    <tr>\n",
              "      <th>acevejo01</th>\n",
              "      <td>6</td>\n",
              "      <td>0</td>\n",
              "      <td>0</td>\n",
              "      <td>0</td>\n",
              "      <td>0</td>\n",
              "      <td>0</td>\n",
              "      <td>0</td>\n",
              "      <td>0</td>\n",
              "      <td>0</td>\n",
              "      <td>0.0</td>\n",
              "    </tr>\n",
              "    <tr>\n",
              "      <th>aceveju01</th>\n",
              "      <td>65</td>\n",
              "      <td>0</td>\n",
              "      <td>0</td>\n",
              "      <td>0</td>\n",
              "      <td>0</td>\n",
              "      <td>0</td>\n",
              "      <td>0</td>\n",
              "      <td>0</td>\n",
              "      <td>0</td>\n",
              "      <td>0.0</td>\n",
              "    </tr>\n",
              "  </tbody>\n",
              "</table>\n",
              "</div>"
            ],
            "text/plain": [
              "           G_p  G_c  G_1b  G_2b  G_3b  G_ss  G_lf  G_cf  G_rf  G_dh\n",
              "playerID                                                           \n",
              "abbotpa01    7    0     0     0     0     0     0     0     0   0.0\n",
              "abernbr01    0    0     0   116     0     0     0     0     0   1.0\n",
              "abreubo01    0    0     0     0     0     0     0    18   148   0.0\n",
              "acevejo01    6    0     0     0     0     0     0     0     0   0.0\n",
              "aceveju01   65    0     0     0     0     0     0     0     0   0.0"
            ]
          },
          "metadata": {
            "tags": []
          },
          "execution_count": 54
        }
      ]
    },
    {
      "cell_type": "code",
      "metadata": {
        "id": "ozX1E9RyeEDe"
      },
      "source": [
        "def max_position(x):\n",
        "    \n",
        "    position_counts = [x[term] for term in position_names]\n",
        "    return position_counts.index(max(position_counts))"
      ],
      "id": "ozX1E9RyeEDe",
      "execution_count": 55,
      "outputs": []
    },
    {
      "cell_type": "code",
      "metadata": {
        "id": "cWQfc9e_eLWJ",
        "colab": {
          "base_uri": "https://localhost:8080/",
          "height": 235
        },
        "outputId": "f14e2f3b-af73-4bed-b51a-e1a1f12cf263"
      },
      "source": [
        "result[\"most_played_position\"] = result.apply(lambda x : position_names[max_position(x)][2:],axis=1)\n",
        "result.head()\n"
      ],
      "id": "cWQfc9e_eLWJ",
      "execution_count": 56,
      "outputs": [
        {
          "output_type": "execute_result",
          "data": {
            "text/html": [
              "<div>\n",
              "<style scoped>\n",
              "    .dataframe tbody tr th:only-of-type {\n",
              "        vertical-align: middle;\n",
              "    }\n",
              "\n",
              "    .dataframe tbody tr th {\n",
              "        vertical-align: top;\n",
              "    }\n",
              "\n",
              "    .dataframe thead th {\n",
              "        text-align: right;\n",
              "    }\n",
              "</style>\n",
              "<table border=\"1\" class=\"dataframe\">\n",
              "  <thead>\n",
              "    <tr style=\"text-align: right;\">\n",
              "      <th></th>\n",
              "      <th>G_p</th>\n",
              "      <th>G_c</th>\n",
              "      <th>G_1b</th>\n",
              "      <th>G_2b</th>\n",
              "      <th>G_3b</th>\n",
              "      <th>G_ss</th>\n",
              "      <th>G_lf</th>\n",
              "      <th>G_cf</th>\n",
              "      <th>G_rf</th>\n",
              "      <th>G_dh</th>\n",
              "      <th>most_played_position</th>\n",
              "    </tr>\n",
              "    <tr>\n",
              "      <th>playerID</th>\n",
              "      <th></th>\n",
              "      <th></th>\n",
              "      <th></th>\n",
              "      <th></th>\n",
              "      <th></th>\n",
              "      <th></th>\n",
              "      <th></th>\n",
              "      <th></th>\n",
              "      <th></th>\n",
              "      <th></th>\n",
              "      <th></th>\n",
              "    </tr>\n",
              "  </thead>\n",
              "  <tbody>\n",
              "    <tr>\n",
              "      <th>abbotpa01</th>\n",
              "      <td>7</td>\n",
              "      <td>0</td>\n",
              "      <td>0</td>\n",
              "      <td>0</td>\n",
              "      <td>0</td>\n",
              "      <td>0</td>\n",
              "      <td>0</td>\n",
              "      <td>0</td>\n",
              "      <td>0</td>\n",
              "      <td>0.0</td>\n",
              "      <td>p</td>\n",
              "    </tr>\n",
              "    <tr>\n",
              "      <th>abernbr01</th>\n",
              "      <td>0</td>\n",
              "      <td>0</td>\n",
              "      <td>0</td>\n",
              "      <td>116</td>\n",
              "      <td>0</td>\n",
              "      <td>0</td>\n",
              "      <td>0</td>\n",
              "      <td>0</td>\n",
              "      <td>0</td>\n",
              "      <td>1.0</td>\n",
              "      <td>2b</td>\n",
              "    </tr>\n",
              "    <tr>\n",
              "      <th>abreubo01</th>\n",
              "      <td>0</td>\n",
              "      <td>0</td>\n",
              "      <td>0</td>\n",
              "      <td>0</td>\n",
              "      <td>0</td>\n",
              "      <td>0</td>\n",
              "      <td>0</td>\n",
              "      <td>18</td>\n",
              "      <td>148</td>\n",
              "      <td>0.0</td>\n",
              "      <td>rf</td>\n",
              "    </tr>\n",
              "    <tr>\n",
              "      <th>acevejo01</th>\n",
              "      <td>6</td>\n",
              "      <td>0</td>\n",
              "      <td>0</td>\n",
              "      <td>0</td>\n",
              "      <td>0</td>\n",
              "      <td>0</td>\n",
              "      <td>0</td>\n",
              "      <td>0</td>\n",
              "      <td>0</td>\n",
              "      <td>0.0</td>\n",
              "      <td>p</td>\n",
              "    </tr>\n",
              "    <tr>\n",
              "      <th>aceveju01</th>\n",
              "      <td>65</td>\n",
              "      <td>0</td>\n",
              "      <td>0</td>\n",
              "      <td>0</td>\n",
              "      <td>0</td>\n",
              "      <td>0</td>\n",
              "      <td>0</td>\n",
              "      <td>0</td>\n",
              "      <td>0</td>\n",
              "      <td>0.0</td>\n",
              "      <td>p</td>\n",
              "    </tr>\n",
              "  </tbody>\n",
              "</table>\n",
              "</div>"
            ],
            "text/plain": [
              "           G_p  G_c  G_1b  G_2b  ...  G_cf  G_rf  G_dh  most_played_position\n",
              "playerID                         ...                                        \n",
              "abbotpa01    7    0     0     0  ...     0     0   0.0                     p\n",
              "abernbr01    0    0     0   116  ...     0     0   1.0                    2b\n",
              "abreubo01    0    0     0     0  ...    18   148   0.0                    rf\n",
              "acevejo01    6    0     0     0  ...     0     0   0.0                     p\n",
              "aceveju01   65    0     0     0  ...     0     0   0.0                     p\n",
              "\n",
              "[5 rows x 11 columns]"
            ]
          },
          "metadata": {
            "tags": []
          },
          "execution_count": 56
        }
      ]
    },
    {
      "cell_type": "code",
      "metadata": {
        "id": "qz80s-4NeXlw"
      },
      "source": [
        "player_salary_position = pd.merge(player_insights, result, on='playerID')\n",
        "player_salary_position.drop(position_names,axis=1,inplace=True)\n",
        "player_salary_position = player_salary_position[player_salary_position[\"most_played_position\"]!=\"p\"]"
      ],
      "id": "qz80s-4NeXlw",
      "execution_count": 57,
      "outputs": []
    },
    {
      "cell_type": "code",
      "metadata": {
        "id": "XartdI3_eioa"
      },
      "source": [
        "position_names = [\"p\",\"c\",\"1b\",\"2b\",\"3b\",\"ss\",\"lf\",\"cf\",\"rf\", \"dh\"]\n",
        "for position in position_names:\n",
        "    player_salary_position[\"chronicle_delta_\" + str(position)] = player_salary_position.apply(lambda x : 1 if x.most_played_position == position else 0,axis=1)"
      ],
      "id": "XartdI3_eioa",
      "execution_count": 58,
      "outputs": []
    },
    {
      "cell_type": "markdown",
      "metadata": {
        "id": "strategic-casting"
      },
      "source": [
        "### Picking nine players\n",
        "\n",
        "On average, players with a higher metric have higher salaries"
      ],
      "id": "strategic-casting"
    },
    {
      "cell_type": "markdown",
      "metadata": {
        "id": "prepared-claim"
      },
      "source": [
        "-->\n",
        "We can search for good deals by looking at players who produce many more runs than others with similar salaries. We can use this table to decide what players to pick and keep our total salary below the 40 million dollars Billy Beane had to work with. This can be done using what computer scientists call linear programming. This is not something we teach, but here are the position players selected with this approach:\n",
        "\n",
        "\n",
        "\n"
      ],
      "id": "prepared-claim"
    },
    {
      "cell_type": "code",
      "metadata": {
        "id": "m2CMbcGBLLf4"
      },
      "source": [
        "from mip import Model, xsum, maximize, BINARY"
      ],
      "id": "m2CMbcGBLLf4",
      "execution_count": 59,
      "outputs": []
    },
    {
      "cell_type": "code",
      "metadata": {
        "id": "Dj_fTK-Nff5H"
      },
      "source": [
        "## Here p denotes predicted runs. p[i] denote the runs for the ith player.\n",
        "## Here w denotes the salary. w[i] denotes the salary for the ith player.\n",
        "## chronicle_delta_position column of the dataframe denotes whether the player plays on that corresponding position or not.\n",
        "p = player_salary_position[\"R_hat\"]\n",
        "w = player_salary_position[\"salary\"]\n",
        "\n",
        "c, I = 40000000, range(len(w))"
      ],
      "id": "Dj_fTK-Nff5H",
      "execution_count": 60,
      "outputs": []
    },
    {
      "cell_type": "code",
      "metadata": {
        "id": "VKjgsq0kfh9n",
        "colab": {
          "base_uri": "https://localhost:8080/"
        },
        "outputId": "af5cb1e7-90c3-4407-9237-862382b1ce2c"
      },
      "source": [
        "m = Model(\"knapsack\")\n",
        "\n",
        "x = [m.add_var(var_type=BINARY) for i in I]\n",
        "\n",
        "m.objective = maximize(xsum(p[i] * x[i] for i in I))\n",
        "\n",
        "m += xsum(w[i] * x[i] for i in I) <= c\n",
        "\n",
        "\n",
        "for position in position_names:\n",
        "    m += xsum(player_salary_position[\"chronicle_delta_\" + str(position)][i]*x[i] for i in I) == 1\n",
        "    \n",
        "\n",
        "\n",
        "m.optimize()\n",
        "\n",
        "selected = [i for i in I if x[i].x >= 0.99]\n",
        "print(\"selected items: {}\".format(selected))\n"
      ],
      "id": "VKjgsq0kfh9n",
      "execution_count": 61,
      "outputs": [
        {
          "output_type": "stream",
          "text": [
            "selected items: [39, 73, 84, 103, 108, 121, 191, 217, 218]\n"
          ],
          "name": "stdout"
        }
      ]
    },
    {
      "cell_type": "code",
      "metadata": {
        "id": "XwRK1hlrfkqn",
        "colab": {
          "base_uri": "https://localhost:8080/",
          "height": 328
        },
        "outputId": "d8fe2f75-dd73-4def-a2f4-5656f4f4ace9"
      },
      "source": [
        "player_salary_position.drop([\"chronicle_delta_\" + str(position) for position in position_names],axis=1,inplace=True)\n",
        "columns_to_be_rounded = [\"HR\",\"BB\",\"singles\",\"doubles\",\"triples\",]\n",
        "for column in columns_to_be_rounded:\n",
        "    player_salary_position[column] = round(player_salary_position[column],1)\n",
        "player_salary_position[\"most_played_position\"] = player_salary_position[\"most_played_position\"].apply(lambda x :x.upper())\n",
        "selected_team=player_salary_position.iloc[selected]\n",
        "selected_team"
      ],
      "id": "XwRK1hlrfkqn",
      "execution_count": 76,
      "outputs": [
        {
          "output_type": "execute_result",
          "data": {
            "text/html": [
              "<div>\n",
              "<style scoped>\n",
              "    .dataframe tbody tr th:only-of-type {\n",
              "        vertical-align: middle;\n",
              "    }\n",
              "\n",
              "    .dataframe tbody tr th {\n",
              "        vertical-align: top;\n",
              "    }\n",
              "\n",
              "    .dataframe thead th {\n",
              "        text-align: right;\n",
              "    }\n",
              "</style>\n",
              "<table border=\"1\" class=\"dataframe\">\n",
              "  <thead>\n",
              "    <tr style=\"text-align: right;\">\n",
              "      <th></th>\n",
              "      <th>playerID</th>\n",
              "      <th>salary</th>\n",
              "      <th>nameFirst</th>\n",
              "      <th>nameLast</th>\n",
              "      <th>HR</th>\n",
              "      <th>BB</th>\n",
              "      <th>singles</th>\n",
              "      <th>doubles</th>\n",
              "      <th>triples</th>\n",
              "      <th>R_hat</th>\n",
              "      <th>most_played_position</th>\n",
              "    </tr>\n",
              "  </thead>\n",
              "  <tbody>\n",
              "    <tr>\n",
              "      <th>39</th>\n",
              "      <td>garcino01</td>\n",
              "      <td>9000000</td>\n",
              "      <td>Nomar</td>\n",
              "      <td>Garciaparra</td>\n",
              "      <td>1.7</td>\n",
              "      <td>2.8</td>\n",
              "      <td>7.3</td>\n",
              "      <td>2.6</td>\n",
              "      <td>0.4</td>\n",
              "      <td>8.561981</td>\n",
              "      <td>SS</td>\n",
              "    </tr>\n",
              "    <tr>\n",
              "      <th>73</th>\n",
              "      <td>walketo04</td>\n",
              "      <td>2050000</td>\n",
              "      <td>Todd</td>\n",
              "      <td>Walker</td>\n",
              "      <td>0.8</td>\n",
              "      <td>3.3</td>\n",
              "      <td>7.0</td>\n",
              "      <td>2.3</td>\n",
              "      <td>0.2</td>\n",
              "      <td>7.703161</td>\n",
              "      <td>2B</td>\n",
              "    </tr>\n",
              "    <tr>\n",
              "      <th>84</th>\n",
              "      <td>heltoto01</td>\n",
              "      <td>5000000</td>\n",
              "      <td>Todd</td>\n",
              "      <td>Helton</td>\n",
              "      <td>2.2</td>\n",
              "      <td>4.7</td>\n",
              "      <td>6.2</td>\n",
              "      <td>2.7</td>\n",
              "      <td>0.2</td>\n",
              "      <td>8.867603</td>\n",
              "      <td>1B</td>\n",
              "    </tr>\n",
              "    <tr>\n",
              "      <th>103</th>\n",
              "      <td>millake01</td>\n",
              "      <td>900000</td>\n",
              "      <td>Kevin</td>\n",
              "      <td>Millar</td>\n",
              "      <td>1.4</td>\n",
              "      <td>3.8</td>\n",
              "      <td>6.1</td>\n",
              "      <td>2.3</td>\n",
              "      <td>0.4</td>\n",
              "      <td>7.634930</td>\n",
              "      <td>LF</td>\n",
              "    </tr>\n",
              "    <tr>\n",
              "      <th>108</th>\n",
              "      <td>berkmla01</td>\n",
              "      <td>500000</td>\n",
              "      <td>Lance</td>\n",
              "      <td>Berkman</td>\n",
              "      <td>1.9</td>\n",
              "      <td>5.2</td>\n",
              "      <td>5.5</td>\n",
              "      <td>2.8</td>\n",
              "      <td>0.2</td>\n",
              "      <td>8.548005</td>\n",
              "      <td>CF</td>\n",
              "    </tr>\n",
              "    <tr>\n",
              "      <th>121</th>\n",
              "      <td>maynebr01</td>\n",
              "      <td>2500000</td>\n",
              "      <td>Brent</td>\n",
              "      <td>Mayne</td>\n",
              "      <td>0.4</td>\n",
              "      <td>3.9</td>\n",
              "      <td>7.6</td>\n",
              "      <td>2.1</td>\n",
              "      <td>0.0</td>\n",
              "      <td>7.886146</td>\n",
              "      <td>C</td>\n",
              "    </tr>\n",
              "    <tr>\n",
              "      <th>191</th>\n",
              "      <td>abreubo01</td>\n",
              "      <td>6333333</td>\n",
              "      <td>Bobby</td>\n",
              "      <td>Abreu</td>\n",
              "      <td>1.3</td>\n",
              "      <td>5.8</td>\n",
              "      <td>6.1</td>\n",
              "      <td>2.3</td>\n",
              "      <td>0.5</td>\n",
              "      <td>8.657520</td>\n",
              "      <td>RF</td>\n",
              "    </tr>\n",
              "    <tr>\n",
              "      <th>217</th>\n",
              "      <td>cirilje01</td>\n",
              "      <td>6375000</td>\n",
              "      <td>Jeff</td>\n",
              "      <td>Cirillo</td>\n",
              "      <td>0.8</td>\n",
              "      <td>3.9</td>\n",
              "      <td>7.8</td>\n",
              "      <td>2.3</td>\n",
              "      <td>0.1</td>\n",
              "      <td>8.484743</td>\n",
              "      <td>3B</td>\n",
              "    </tr>\n",
              "    <tr>\n",
              "      <th>218</th>\n",
              "      <td>martied01</td>\n",
              "      <td>7086668</td>\n",
              "      <td>Edgar</td>\n",
              "      <td>Martinez</td>\n",
              "      <td>1.7</td>\n",
              "      <td>6.3</td>\n",
              "      <td>6.4</td>\n",
              "      <td>2.3</td>\n",
              "      <td>0.0</td>\n",
              "      <td>9.009369</td>\n",
              "      <td>DH</td>\n",
              "    </tr>\n",
              "  </tbody>\n",
              "</table>\n",
              "</div>"
            ],
            "text/plain": [
              "      playerID   salary nameFirst  ... triples     R_hat  most_played_position\n",
              "39   garcino01  9000000     Nomar  ...     0.4  8.561981                    SS\n",
              "73   walketo04  2050000      Todd  ...     0.2  7.703161                    2B\n",
              "84   heltoto01  5000000      Todd  ...     0.2  8.867603                    1B\n",
              "103  millake01   900000     Kevin  ...     0.4  7.634930                    LF\n",
              "108  berkmla01   500000     Lance  ...     0.2  8.548005                    CF\n",
              "121  maynebr01  2500000     Brent  ...     0.0  7.886146                     C\n",
              "191  abreubo01  6333333     Bobby  ...     0.5  8.657520                    RF\n",
              "217  cirilje01  6375000      Jeff  ...     0.1  8.484743                    3B\n",
              "218  martied01  7086668     Edgar  ...     0.0  9.009369                    DH\n",
              "\n",
              "[9 rows x 11 columns]"
            ]
          },
          "metadata": {
            "tags": []
          },
          "execution_count": 76
        }
      ]
    },
    {
      "cell_type": "markdown",
      "metadata": {
        "id": "P6x-5Wypm6Er"
      },
      "source": [
        "We see that all these players have above average BB and most have above average HR rates, while the same is not true for singles. Here is a table with statistics standardized across players so that, for example, above average HR hitters have values above 0.\n",
        "\n",
        "\n",
        "\n",
        "\n",
        "\n",
        "\n",
        "\n",
        "The same pattern arises when we look at the top performers: batting averages go down for most of the top performers.\n",
        "\n",
        "\n",
        "\n",
        "But these are not rookies! Also, look at what happens to the worst performers of 2013:\n",
        "\n",
        "\n",
        "\n",
        "Their batting averages mostly go up! Is this some sort of reverse sophomore slump? It is not. There is no such thing as the sophomore slump. This is all explained with a simple statistical fact: the correlation for performance in two separate years is high, but not perfect:\n",
        "\n",
        "\n",
        "\n",
        "The correlation is **r cor(two_years$\"2013\",two_years$\"2014\")** and\n",
        "the data look very much like a bivariate normal distribution, which means we predict a 2014 batting average $Y$ for any given player that had a 2013 batting average $X$ with:\n",
        "\n",
        "$$ \\frac{Y - .255}{.032} = 0.46 \\left( \\frac{X - .261}{.023}\\right) $$\n",
        "\n",
        "Because the correlation is not perfect, regression tells us that, on average, expect high performers from 2013 to do a bit worse in 2014. It's not a jinx; it's just due to chance. The ROY are selected from the top values of $X$ so it is expected that $Y$ will regress to the mean.\n",
        "\n",
        "\n"
      ],
      "id": "P6x-5Wypm6Er"
    }
  ]
}