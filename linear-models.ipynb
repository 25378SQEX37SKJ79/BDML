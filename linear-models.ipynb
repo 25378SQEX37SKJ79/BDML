{
 "cells": [
  {
   "cell_type": "markdown",
   "id": "civic-behalf",
   "metadata": {},
   "source": [
    "## Confounding \n",
    "\n",
    "Previously, we noted a strong relationship between Runs and BB. If we find the regression line for predicting runs from bases on balls, we a get slope of:"
   ]
  },
  {
   "cell_type": "code",
   "execution_count": null,
   "id": "understood-mustang",
   "metadata": {},
   "outputs": [],
   "source": [
    "%%R\n",
    "library(tidyverse)\n",
    "library(Lahman)\n",
    "get_slope <- function(x, y) cor(x, y) * sd(y) / sd(x)\n",
    "\n",
    "bb_slope <- Teams %>% \n",
    "  filter(yearID %in% 1961:2001 ) %>% \n",
    "  mutate(BB_per_game = BB/G, R_per_game = R/G) %>% \n",
    "  summarize(slope = get_slope(BB_per_game, R_per_game))\n",
    "\n",
    "bb_slope "
   ]
  }
 ],
 "metadata": {},
 "nbformat": 4,
 "nbformat_minor": 5
}
