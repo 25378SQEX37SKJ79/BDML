{
 "cells": [
  {
   "cell_type": "markdown",
   "id": "renewable-receiver",
   "metadata": {},
   "source": [
    "# Confounding \n",
    "\n",
    "Previously, we noted a strong relationship between Runs and BB. If we find the regression line for predicting runs from bases on balls, we a get slope of:"
   ]
  },
  {
   "cell_type": "code",
   "execution_count": null,
   "id": "technical-disclaimer",
   "metadata": {},
   "outputs": [],
   "source": [
    "%%R\n",
    "library(tidyverse)\n",
    "library(Lahman)\n",
    "get_slope <- function(x, y) cor(x, y) * sd(y) / sd(x)\n",
    "\n",
    "bb_slope <- Teams %>% \n",
    "  filter(yearID %in% 1961:2001 ) %>% \n",
    "  mutate(BB_per_game = BB/G, R_per_game = R/G) %>% \n",
    "  summarize(slope = get_slope(BB_per_game, R_per_game))\n",
    "\n",
    "bb_slope "
   ]
  },
  {
   "cell_type": "markdown",
   "id": "graphic-science",
   "metadata": {},
   "source": [
    "So does this mean that if we go and hire low salary players with many BB, and who therefore increase the number of walks per game by 2, our team will score **r round(bb_slope*2, 1)** more runs per game? \n",
    "\n",
    "We are again reminded that association is not causation. The data does provide strong evidence that a team with two more BB per game than the average team, scores **r round(bb_slope*2, 1)** runs per game. But this does not mean that BB are the cause. \n",
    "\n",
    "Note that if we compute the regression line slope for singles we get:"
   ]
  },
  {
   "cell_type": "code",
   "execution_count": null,
   "id": "stone-sixth",
   "metadata": {},
   "outputs": [],
   "source": [
    "%%R\n",
    "singles_slope <- Teams %>% \n",
    "  filter(yearID %in% 1961:2001 ) %>%\n",
    "  mutate(Singles_per_game = (H-HR-X2B-X3B)/G, R_per_game = R/G) %>%\n",
    "  summarize(slope = get_slope(Singles_per_game, R_per_game))\n",
    "\n",
    "singles_slope "
   ]
  },
  {
   "cell_type": "markdown",
   "id": "collect-stream",
   "metadata": {},
   "source": [
    "which is a lower value than what we obtain for BB.\n",
    "\n",
    "Also, notice that a single gets you to first base just like a BB. Those that know about baseball will tell you that with a single, runners on base have a better chance of scoring than with a BB. So how can BB be more predictive of runs? The reason this happen is because of confounding. Here we show the correlation between HR, BB, and singles:"
   ]
  },
  {
   "cell_type": "code",
   "execution_count": null,
   "id": "further-teddy",
   "metadata": {},
   "outputs": [],
   "source": [
    "%%R\n",
    "Teams %>% \n",
    "  filter(yearID %in% 1961:2001 ) %>% \n",
    "  mutate(Singles = (H-HR-X2B-X3B)/G, BB = BB/G, HR = HR/G) %>%  \n",
    "  summarize(cor(BB, HR), cor(Singles, HR), cor(BB, Singles))"
   ]
  },
  {
   "cell_type": "markdown",
   "id": "solid-creek",
   "metadata": {},
   "source": [
    "It turns out that pitchers, afraid of HRs, will sometimes avoid throwing strikes to HR hitters. As a result, HR hitters tend to have more BBs and a team with many HRs will also have more BBs. Although it may appear that BBs cause runs, it is actually the HRs that cause most of these runs. We say that BBs are _confounded_ with HRs. Nonetheless, could it be that BBs still help? To find out, we somehow have to adjust for the HR effect. Regression can help with this as well.\n",
    "\n",
    "### Understanding confounding through stratification \n",
    "\n",
    "A first approach is to keep HRs fixed at a certain value and then examine the relationship between BB and runs. As we did when we stratified fathers by rounding to the closest inch, here we can stratify HR per game to the closest ten. We filter out the strata with few points to avoid highly variable estimates:"
   ]
  },
  {
   "cell_type": "code",
   "execution_count": null,
   "id": "naval-maine",
   "metadata": {},
   "outputs": [],
   "source": [
    "%%R\n",
    "dat <- Teams %>% filter(yearID %in% 1961:2001) %>%\n",
    "  mutate(HR_strata = round(HR/G, 1), \n",
    "         BB_per_game = BB / G,\n",
    "         R_per_game = R / G) %>%\n",
    "  filter(HR_strata >= 0.4 & HR_strata <=1.2) "
   ]
  },
  {
   "cell_type": "markdown",
   "id": "buried-radar",
   "metadata": {},
   "source": [
    "and then make a scatterplot for each strata:"
   ]
  },
  {
   "cell_type": "code",
   "execution_count": null,
   "id": "interracial-bridge",
   "metadata": {},
   "outputs": [],
   "source": [
    "%%R\n",
    "dat %>% \n",
    "  ggplot(aes(BB_per_game, R_per_game)) +  \n",
    "  geom_point(alpha = 0.5) +\n",
    "  geom_smooth(method = \"lm\") +\n",
    "  facet_wrap( ~ HR_strata) "
   ]
  },
  {
   "cell_type": "markdown",
   "id": "immune-halloween",
   "metadata": {},
   "source": [
    "Remember that the regression slope for predicting runs with BB was **r round(bb_slope, 1)**. Once we stratify by HR, these slopes are substantially reduced:"
   ]
  },
  {
   "cell_type": "code",
   "execution_count": null,
   "id": "celtic-stadium",
   "metadata": {},
   "outputs": [],
   "source": [
    "%%R\n",
    "dat %>%  \n",
    "  group_by(HR_strata) %>%\n",
    "  summarize(slope = get_slope(BB_per_game, R_per_game))"
   ]
  },
  {
   "cell_type": "markdown",
   "id": "diagnostic-basketball",
   "metadata": {},
   "source": [
    "The slopes are reduced, but they are not 0, which indicates that BBs are helpful for producing runs, just not as much as previously thought.\n",
    "In fact, the values above are closer to the slope we obtained from singles, **r round(singles_slope, 2)**, which is more consistent with our intuition. Since both singles and BB get us to first base, they should have about the same predictive power.\n",
    "\n",
    "Although our understanding of the application tells us that HR cause BB but not the other way around, we can still check if stratifying by BB makes the effect of BB go down. To do this, we use the same code except that we swap HR and BBs to get this plot:\n",
    "\n",
    "\n",
    "\n",
    "In this case, the slopes do not change much from the original:"
   ]
  },
  {
   "cell_type": "code",
   "execution_count": null,
   "id": "orange-analysis",
   "metadata": {},
   "outputs": [],
   "source": [
    "%%R\n",
    "dat %>% group_by(BB_strata) %>%\n",
    "   summarize(slope = get_slope(HR_per_game, R_per_game))"
   ]
  },
  {
   "cell_type": "markdown",
   "id": "applicable-nitrogen",
   "metadata": {},
   "source": [
    "They are reduced a bit, which is consistent with the fact that BB do in fact cause some runs."
   ]
  },
  {
   "cell_type": "code",
   "execution_count": null,
   "id": "sought-version",
   "metadata": {},
   "outputs": [],
   "source": [
    "%%R\n",
    "hr_slope <- Teams %>% \n",
    "  filter(yearID %in% 1961:2001 ) %>% \n",
    "  mutate(HR_per_game = HR/G, R_per_game = R/G) %>% \n",
    "  summarize(slope = get_slope(HR_per_game, R_per_game))\n",
    "\n",
    "hr_slope"
   ]
  },
  {
   "cell_type": "markdown",
   "id": "planned-caution",
   "metadata": {},
   "source": [
    "Regardless, it seems that if we stratify by HR, we have bivariate distributions for runs versus BB. Similarly, if we stratify by BB, we have approximate bivariate normal distributions for HR versus runs. \n",
    "\n",
    "###  Multivariate regression\n",
    "\n",
    "It is somewhat complex to be computing regression lines for each strata. We are essentially fitting models like this:\n",
    "\n",
    "$$\n",
    "\\mbox{E}[R \\mid BB = x_1, \\, HR = x_2] = \\beta_0 + \\beta_1(x_2) x_1 + \\beta_2(x_1) x_2\n",
    "$$\n",
    "\n",
    "with the slopes for $x_1$ changing for different values of $x_2$ and vice versa. But is there an easier approach?\n",
    "\n",
    "If we take random variability into account, the slopes in the strata don't appear to change much. If these slopes are in fact the same, this implies that $\\beta_1(x_2)$ and $\\beta_2(x_1)$ are constants. This in turn implies that the expectation of runs conditioned on HR and BB can be written like this:\n",
    "\n",
    "$$\n",
    "\\mbox{E}[R \\mid BB = x_1, \\, HR = x_2] = \\beta_0 + \\beta_1 x_1 + \\beta_2 x_2\n",
    "$$\n",
    "\n",
    "This model suggests that if the number of HR is fixed at $x_2$, we observe a linear relationship between runs and BB with an intercept of $\\beta_0 + \\beta_2 x_2$. Our exploratory data analysis suggested this. The model also suggests that as the number of HR grows, the intercept growth is linear as well and determined by $\\beta_1 x_1$. \n",
    "\n",
    "In this analysis, referred to as _multivariate regression_, you will often hear people say that the BB slope $\\beta_1$ is _adjusted_ for the HR effect. If the model is correct then confounding has been accounted for. But how do we estimate $\\beta_1$ and $\\beta_2$ from the data? For this, we learn about linear models and least squares estimates.\n",
    "\n",
    "## Least squares estimates {#lse}\n",
    "\n",
    "We have described how if data is bivariate normal then the conditional expectations follow the regression line. The fact that the conditional expectation is a line is not an extra assumption but rather a derived result. However, in practice it is common to explicitly write down a model that describes the relationship between two or more variables using a _linear model_. \n",
    "\n",
    "We note that \"linear\" here does not refer to lines exclusively, but rather to the fact that the conditional expectation is a linear combination of known quantities. In mathematics, when we multiply each variable by a constant and then add them together, we say we formed a linear combination of the variables. For example, $3x - 4y + 5z$ is a linear combination of $x$, $y$, and $z$. We can also add a constant so $2 + 3x - 4y + 5z$ is also linear combination of $x$, $y$, and $z$. \n",
    "\n",
    "So $\\beta_0 + \\beta_1 x_1 + \\beta_2 x_2$, is a linear combination of $x_1$ and $x_2$. \n",
    "The simplest linear model is a constant $\\beta_0$; the second simplest is a line $\\beta_0 + \\beta_1 x$. If we were to specify a linear model for Galton's data, we would denote the $N$ observed father heights with $x_1, \\dots, x_n$, then we model the $N$ son heights we are trying to predict with: \n",
    "\n",
    "$$ \n",
    "Y_i = \\beta_0 + \\beta_1 x_i + \\varepsilon_i, \\, i=1,\\dots,N. \n",
    "$$\n",
    "\n",
    "Here $x_i$ is the father's height, which is fixed (not random) due to the conditioning, and $Y_i$ is the random son's height that we want to predict. We further assume that $\\varepsilon_i$ are independent from each other, have expected value 0 and the standard deviation, call it $\\sigma$, does not depend on $i$. \n",
    "\n",
    "In the above model, we know the $x_i$, but to have a useful model for prediction, we need $\\beta_0$ and $\\beta_1$. We estimate these from the data. Once we do this, we can predict son's heights for any father's height $x$. We show how to do this in the next section.\n",
    "\n",
    "Note that if we further assume that the $\\varepsilon$ is normally distributed, then this model is exactly the same one we derived earlier by assuming bivariate normal data. A somewhat nuanced difference is that in the first approach we assumed the data was bivariate normal and that the linear model was derived, not assumed. In practice, linear models are just assumed without necessarily assuming normality: the distribution of the $\\varepsilon$s is not specified.  Nevertheless, if your data is bivariate normal, the above linear model holds. If your data is not bivariate normal, then you will need to have other ways of justifying the model.\n",
    "\n",
    "### Interpreting linear models\n",
    "\n",
    "One reason linear models are popular is that they are interpretable. In the case of Galton's data, we can interpret the data like this: due to inherited genes, the son's height prediction grows by $\\beta_1$ for each inch we increase the father's height $x$. Because not all sons with fathers of height $x$ are of equal height, we need the term $\\varepsilon$, which explains the remaining variability. This remaining variability includes the mother's genetic effect, environmental factors, and other biological randomness. \n",
    "\n",
    "Given how we wrote the model above, the intercept $\\beta_0$ is not very interpretable as it is the predicted height of a son with a father with no height. Due to regression to the mean, the prediction will usually be a bit larger than 0. To make the slope parameter more interpretable, we can rewrite the model slightly as:\n",
    "\n",
    "$$ \n",
    "Y_i = \\beta_0 + \\beta_1 (x_i - \\bar{x}) + \\varepsilon_i, \\, i=1,\\dots,N \n",
    "$$\n",
    "\n",
    "\n",
    "with $\\bar{x} = 1/N \\sum_{i=1}^N x_i$ the average of the $x$. In this case $\\beta_0$ represents the height when $x_i = \\bar{x}$, which is the height of the son of an average father.\n",
    "\n",
    "### Least Squares Estimates (LSE)\n",
    "\n",
    "For linear models to be useful, we have to estimate the unknown $\\beta$s. The standard approach in science is to find the values that minimize the distance of the fitted model to the data. The following is called the least squares (LS) equation and we will see it often in this chapter. For Galton's data, we would write:\n",
    "\n",
    "$$ \n",
    "RSS = \\sum_{i=1}^n \\left\\{  y_i - \\left(\\beta_0 + \\beta_1 x_i \\right)\\right\\}^2 \n",
    "$$\n",
    "\n",
    "This quantity is called the residual sum of squares (RSS). Once we find the values that minimize the RSS, we will call the values the least squares estimates (LSE) and denote them with $\\hat{\\beta}_0$ and $\\hat{\\beta}_1$. Let's demonstrate this with the previously defined dataset:"
   ]
  },
  {
   "cell_type": "code",
   "execution_count": null,
   "id": "actual-drink",
   "metadata": {},
   "outputs": [],
   "source": [
    "%%R\n",
    "library(HistData)\n",
    "data(\"GaltonFamilies\")\n",
    "set.seed(1983)\n",
    "galton_heights <- GaltonFamilies %>%\n",
    "  filter(gender == \"male\") %>%\n",
    "  group_by(family) %>%\n",
    "  sample_n(1) %>%\n",
    "  ungroup() %>%\n",
    "  select(father, childHeight) %>%\n",
    "  rename(son = childHeight)"
   ]
  },
  {
   "cell_type": "markdown",
   "id": "cross-vacuum",
   "metadata": {},
   "source": [
    "Let's write a function that computes the RSS for any pair of values $\\beta_0$ and $\\beta_1$."
   ]
  },
  {
   "cell_type": "code",
   "execution_count": null,
   "id": "quarterly-overview",
   "metadata": {},
   "outputs": [],
   "source": [
    "%%R\n",
    "rss <- function(beta0, beta1, data){\n",
    "  resid <- galton_heights$son - (beta0+beta1*galton_heights$father)\n",
    "  return(sum(resid^2))\n",
    "}"
   ]
  },
  {
   "cell_type": "markdown",
   "id": "joint-russia",
   "metadata": {},
   "source": [
    "So for any pair of values, we get an RSS. Here is a plot of the RSS as a function of $\\beta_1$ when we keep the $\\beta_0$ fixed at 25."
   ]
  },
  {
   "cell_type": "code",
   "execution_count": null,
   "id": "integrated-showcase",
   "metadata": {},
   "outputs": [],
   "source": [
    "%%R\n",
    "beta1 = seq(0, 1, len=nrow(galton_heights))\n",
    "results <- data.frame(beta1 = beta1,\n",
    "                      rss = sapply(beta1, rss, beta0 = 25))\n",
    "results %>% ggplot(aes(beta1, rss)) + geom_line() + \n",
    "  geom_line(aes(beta1, rss))"
   ]
  },
  {
   "cell_type": "markdown",
   "id": "black-swift",
   "metadata": {},
   "source": [
    "We can see a clear minimum for $\\beta_1$ at around 0.65. However, this minimum for $\\beta_1$ is for when $\\beta_0 = 25$, a value we arbitrarily picked. We don't know if  (25, 0.65) is the pair that minimizes the equation across all possible pairs. \n",
    "\n",
    "Trial and error is not going to work in this case. We could search for a minimum within a fine grid of $\\beta_0$ and $\\beta_1$ values, but this is unnecessarily time-consuming since we can use calculus: take the partial derivatives, set them to 0 and solve for $\\beta_1$ and $\\beta_2$. Of course, if we have many parameters, these equations can get rather complex. But there are functions in R that do these calculations for us. We will learn these next. To learn the mathematics behind this, you can consult a book on linear models. \n",
    "\n",
    "### The `lm` function\n",
    "\n",
    "In R, we can obtain the least squares estimates using the `lm` function. To fit the model:\n",
    "\n",
    "$$\n",
    "Y_i = \\beta_0 + \\beta_1 x_i + \\varepsilon_i\n",
    "$$\n",
    "\n",
    "with $Y_i$ the son's height and $x_i$ the father's height, we can use this code to obtain the least squares estimates."
   ]
  },
  {
   "cell_type": "code",
   "execution_count": null,
   "id": "accepting-minutes",
   "metadata": {},
   "outputs": [],
   "source": [
    "%%R\n",
    "fit <- lm(son ~ father, data = galton_heights)\n",
    "fit$coef"
   ]
  },
  {
   "cell_type": "markdown",
   "id": "rational-failing",
   "metadata": {},
   "source": [
    "The most common way we use `lm` is by using the character `~` to let `lm` know which is the variable we are predicting (left of `~`) and which we are using to predict (right of `~`). The intercept is added automatically to the model that will be fit. \n",
    "\n",
    "The object `fit` includes more information about the fit. We can use the function `summary` to extract more of this information (not shown):"
   ]
  },
  {
   "cell_type": "code",
   "execution_count": null,
   "id": "russian-transcript",
   "metadata": {},
   "outputs": [],
   "source": [
    "%%R\n",
    "summary(fit)"
   ]
  },
  {
   "cell_type": "markdown",
   "id": "studied-gilbert",
   "metadata": {},
   "source": [
    "To understand some of the information included in this summary we need to remember that the LSE are random variables. Mathematical statistics gives us some ideas of the distribution of these random variables\n",
    "\n",
    "\n",
    "### LSE are random variables \n",
    "\n",
    "The LSE is derived from the data $y_1,\\dots,y_N$, which are a realization of random variables $Y_1, \\dots, Y_N$.  This implies that our estimates are random variables. To see this, we can run a Monte Carlo simulation in which we assume the son and father height data defines a population, take a random sample of size $N=50$, and compute the regression slope coefficient for each one:"
   ]
  },
  {
   "cell_type": "code",
   "execution_count": null,
   "id": "enormous-samoa",
   "metadata": {},
   "outputs": [],
   "source": [
    "%%R\n",
    "B <- 1000\n",
    "N <- 50\n",
    "lse <- replicate(B, {\n",
    "  sample_n(galton_heights, N, replace = TRUE) %>% \n",
    "    lm(son ~ father, data = .) %>% \n",
    "    .$coef \n",
    "})\n",
    "lse <- data.frame(beta_0 = lse[1,], beta_1 = lse[2,]) "
   ]
  },
  {
   "cell_type": "markdown",
   "id": "toxic-liberal",
   "metadata": {},
   "source": [
    "We can see the variability of the estimates by plotting their distributions:\n",
    "\n",
    "\n",
    "\n",
    "The reason these look normal is because the central limit theorem applies here as well: for large enough $N$, the least squares estimates will be approximately normal with expected value $\\beta_0$ and $\\beta_1$, respectively. The standard errors are a bit complicated to compute, but mathematical theory does allow us to compute them and they are included in the summary provided by the `lm` function. Here it is for one of our simulated data sets:"
   ]
  },
  {
   "cell_type": "code",
   "execution_count": null,
   "id": "varied-globe",
   "metadata": {},
   "outputs": [],
   "source": [
    "%%R\n",
    " sample_n(galton_heights, N, replace = TRUE) %>% \n",
    "  lm(son ~ father, data = .) %>% \n",
    "  summary %>% .$coef"
   ]
  },
  {
   "cell_type": "markdown",
   "id": "criminal-trick",
   "metadata": {},
   "source": [
    "You can see that the standard errors estimates reported by the `summary` are close to the standard errors from the simulation:"
   ]
  },
  {
   "cell_type": "code",
   "execution_count": null,
   "id": "composed-oriental",
   "metadata": {},
   "outputs": [],
   "source": [
    "%%R\n",
    "lse %>% summarize(se_0 = sd(beta_0), se_1 = sd(beta_1))"
   ]
  },
  {
   "cell_type": "markdown",
   "id": "meaningful-grill",
   "metadata": {},
   "source": [
    "The `summary` function also reports t-statistics (`t value`) and p-values (`Pr(>|t|)`). The t-statistic is not actually based on the central limit theorem but rather on the assumption that the $\\varepsilon$s follow a normal distribution. Under this assumption, mathematical theory tells us that the LSE divided by their standard error, $\\hat{\\beta}_0 / \\hat{\\mbox{SE}}(\\hat{\\beta}_0 )$ and $\\hat{\\beta}_1 / \\hat{\\mbox{SE}}(\\hat{\\beta}_1 )$, follow a t-distribution with $N-p$ degrees of freedom, with $p$ the number of parameters in our model. In the case of height $p=2$, the two p-values are testing the null hypothesis that $\\beta_0 = 0$ and $\\beta_1=0$, respectively. \n",
    "\n",
    "Remember that, as we described in Section \\@ref(t-dist) for large enough $N$, the CLT works and the t-distribution becomes almost the same as the normal distribution. Also, notice that we can construct confidence intervals, but we will soon learn about __broom__, an add-on package that makes this easy.\n",
    "\n",
    "Although we do not show examples in this book, hypothesis testing with regression models is commonly used in epidemiology and economics to make statements such as \"the effect of A on B was statistically significant after adjusting for X, Y, and Z\". However, several assumptions have to hold for these statements to be true. \n",
    "\n",
    "\n",
    "### Predicted values are random variables \n",
    "\n",
    "Once we fit our model, we can obtain prediction of $Y$ by plugging in the estimates into the regression model. For example, if the father's height is $x$, then our prediction $\\hat{Y}$ for the son's height will be:\n",
    "\n",
    "$$\\hat{Y} = \\hat{\\beta}_0 + \\hat{\\beta}_1 x$$\n",
    "\n",
    "When we plot $\\hat{Y}$ versus $x$, we see the regression line.\n",
    "\n",
    "Keep in mind that the prediction $\\hat{Y}$ is also a random variable and mathematical theory tells us what the standard errors are. If we assume the errors are normal, or have a large enough sample size, we can use theory to construct confidence intervals as well. In fact, the __ggplot2__ layer `geom_smooth(method = \"lm\")` that we previously used plots $\\hat{Y}$ and surrounds it by confidence intervals:"
   ]
  },
  {
   "cell_type": "code",
   "execution_count": null,
   "id": "imperial-story",
   "metadata": {},
   "outputs": [],
   "source": [
    "%%R\n",
    "galton_heights %>% ggplot(aes(son, father)) +\n",
    "  geom_point() +\n",
    "  geom_smooth(method = \"lm\")"
   ]
  },
  {
   "cell_type": "markdown",
   "id": "cleared-montreal",
   "metadata": {},
   "source": [
    "The R function `predict` takes an `lm` object as input and returns the prediction. If requested, the standard errors and other information from which we can construct confidence intervals is provided:"
   ]
  },
  {
   "cell_type": "code",
   "execution_count": null,
   "id": "small-workplace",
   "metadata": {},
   "outputs": [],
   "source": [
    "%%R\n",
    "fit <- galton_heights %>% lm(son ~ father, data = .) \n",
    "\n",
    "y_hat <- predict(fit, se.fit = TRUE)\n",
    "\n",
    "names(y_hat)"
   ]
  },
  {
   "cell_type": "markdown",
   "id": "sweet-director",
   "metadata": {},
   "source": [
    "## Exercises\n",
    "\n",
    "\n",
    "We have shown how BB and singles have similar predictive power for scoring runs. Another way to compare the usefulness of these baseball metrics is by assessing how stable they are across the years. Since we have to pick players based on their previous performances, we will prefer metrics that are more stable. In these exercises, we will compare the stability of singles and BBs. \n",
    "\n",
    "1\\. Before we get started, we want to generate two tables. One for 2002 and another for the average of 1999-2001 seasons. We want to define per plate appearance statistics. Here is how we create the 2017 table. Keeping only players with more than 100 plate appearances."
   ]
  },
  {
   "cell_type": "code",
   "execution_count": null,
   "id": "dominican-development",
   "metadata": {},
   "outputs": [],
   "source": [
    "%%R\n",
    "library(Lahman)\n",
    "dat <- Batting %>% filter(yearID == 2002) %>%\n",
    "  mutate(pa = AB + BB, \n",
    "         singles = (H - X2B - X3B - HR) / pa, bb = BB / pa) %>%\n",
    "  filter(pa >= 100) %>%\n",
    "  select(playerID, singles, bb)"
   ]
  },
  {
   "cell_type": "markdown",
   "id": "bridal-indonesia",
   "metadata": {},
   "source": [
    "Now compute a similar table but with rates computed over 1999-2001. \n",
    "\n",
    "2\\. In Section \\@ref(joins) we learn about the `inner_join`, which you can use to have the 2001 data and averages in the same table:"
   ]
  },
  {
   "cell_type": "code",
   "execution_count": null,
   "id": "historical-theology",
   "metadata": {},
   "outputs": [],
   "source": [
    "%%R\n",
    "dat <- inner_join(dat, avg, by = \"playerID\")"
   ]
  },
  {
   "cell_type": "markdown",
   "id": "stunning-portal",
   "metadata": {},
   "source": [
    "Compute the correlation between 2002 and the previous seasons for singles and BB.\n",
    "\n",
    "\n",
    "3\\. Note that the correlation is higher for BB. To quickly get an idea of the uncertainty associated with this correlation estimate, we will fit a linear model and compute confidence intervals for the slope coefficient. However, first make scatterplots to confirm that fitting a linear model is appropriate.\n",
    "\n",
    "\n",
    "4\\. Now fit a linear model for each metric and use the `confint` function to compare the estimates.\n",
    "\n",
    "\n",
    "## Linear regression in the tidyverse\n",
    "\n",
    "To see how we use the `lm` function in a more complex analysis, let's go back to the baseball example. In a previous example, we estimated regression lines to predict runs for BB in different HR strata. We first constructed a data frame similar to this:"
   ]
  },
  {
   "cell_type": "code",
   "execution_count": null,
   "id": "nervous-microwave",
   "metadata": {},
   "outputs": [],
   "source": [
    "%%R\n",
    "dat <- Teams %>% filter(yearID %in% 1961:2001) %>%\n",
    "  mutate(HR = round(HR/G, 1), \n",
    "         BB = BB/G,\n",
    "         R = R/G) %>%\n",
    "  select(HR, BB, R) %>%\n",
    "  filter(HR >= 0.4 & HR<=1.2) "
   ]
  },
  {
   "cell_type": "markdown",
   "id": "generic-discount",
   "metadata": {},
   "source": [
    "Since we didn't know the `lm` function, to compute the regression line in each strata, we used the formula directly like this:"
   ]
  },
  {
   "cell_type": "code",
   "execution_count": null,
   "id": "sonic-yorkshire",
   "metadata": {},
   "outputs": [],
   "source": [
    "%%R\n",
    "get_slope <- function(x, y) cor(x, y) * sd(y) / sd(x)\n",
    "dat %>%  \n",
    "  group_by(HR) %>%\n",
    "  summarize(slope = get_slope(BB, R))"
   ]
  },
  {
   "cell_type": "markdown",
   "id": "sharp-nomination",
   "metadata": {},
   "source": [
    "We argued that the slopes are similar and that the differences were perhaps due to random variation. To provide a more rigorous defense of the slopes being the same, which led to our multivariate model, we could compute confidence intervals for each slope. We have not learned the formula for this, but the `lm` function provides enough information to construct them. \n",
    "\n",
    "First, note that if we try to use the `lm` function to get the estimated slope like this:"
   ]
  },
  {
   "cell_type": "code",
   "execution_count": null,
   "id": "convenient-choir",
   "metadata": {},
   "outputs": [],
   "source": [
    "%%R\n",
    "dat %>%  \n",
    "  group_by(HR) %>%\n",
    "  lm(R ~ BB, data = .) %>% .$coef"
   ]
  },
  {
   "cell_type": "markdown",
   "id": "grave-average",
   "metadata": {},
   "source": [
    "we don't get the result we want. The `lm` function ignores the `group_by`. This is expected because `lm` is not part of the __tidyverse__ and does not know how to handle the outcome of a grouped tibble.\n",
    "\n",
    "The __tidyverse__ functions know how to interpret grouped tibbles. Furthermore, to facilitate stringing commands through the pipe `%>%`, __tidyverse__ functions consistently return data frames, since this assures that the output of a function is accepted as the input of another. \n",
    "But most R functions do not recognize grouped tibbles nor do they return data frames. The `lm` function is an example. The `do` functions serves as a bridge between R functions, such as `lm`, and the __tidyverse__. The `do` function understands grouped tibbles and always returns a data frame.\n",
    "\n",
    "So, let's try to use the `do` function to fit a regression line to each HR strata:"
   ]
  },
  {
   "cell_type": "code",
   "execution_count": null,
   "id": "native-object",
   "metadata": {},
   "outputs": [],
   "source": [
    "%%R\n",
    "dat %>%  \n",
    "  group_by(HR) %>%\n",
    "  do(fit = lm(R ~ BB, data = .))"
   ]
  },
  {
   "cell_type": "markdown",
   "id": "phantom-belize",
   "metadata": {},
   "source": [
    "Notice that we did in fact fit a regression line to each strata. The `do` function will create a data frame with the first column being the strata value and a column named `fit` (we chose the name, but it can be anything). The column will contain the result of the `lm` call. Therefore, the returned tibble has a column with `lm` objects, which is not very useful. \n",
    "\n",
    "Also, if we do not name a column (note above we named it `fit`), then `do` will return the actual output of `lm`, not a data frame, and this will result in an error since `do` is expecting a data frame as output."
   ]
  },
  {
   "cell_type": "code",
   "execution_count": null,
   "id": "promising-teens",
   "metadata": {},
   "outputs": [],
   "source": [
    "%%R\n",
    "dat %>%  \n",
    "  group_by(HR) %>%\n",
    "  do(lm(R ~ BB, data = .))"
   ]
  },
  {
   "cell_type": "markdown",
   "id": "outstanding-demographic",
   "metadata": {},
   "source": [
    "`Error: Results 1, 2, 3, 4, 5, ... must be data frames, not lm`\n",
    "\n",
    "\n",
    "For a useful data frame to be constructed, the output of the function must be a data frame too. We could build a function that returns only what we want in the form of a data frame:"
   ]
  },
  {
   "cell_type": "code",
   "execution_count": null,
   "id": "concerned-prerequisite",
   "metadata": {},
   "outputs": [],
   "source": [
    "%%R\n",
    "get_slope <- function(data){\n",
    "  fit <- lm(R ~ BB, data = data)\n",
    "  data.frame(slope = fit$coefficients[2], \n",
    "             se = summary(fit)$coefficient[2,2])\n",
    "}"
   ]
  },
  {
   "cell_type": "markdown",
   "id": "smoking-onion",
   "metadata": {},
   "source": [
    "And then use `do` **without** naming the output, since we are already getting a data frame:"
   ]
  },
  {
   "cell_type": "code",
   "execution_count": null,
   "id": "extensive-translation",
   "metadata": {},
   "outputs": [],
   "source": [
    "%%R\n",
    "dat %>%  \n",
    "  group_by(HR) %>%\n",
    "  do(get_slope(.))"
   ]
  },
  {
   "cell_type": "markdown",
   "id": "korean-armor",
   "metadata": {},
   "source": [
    "If we name the output, then we get something we do not want, a column containing  data frames:"
   ]
  },
  {
   "cell_type": "code",
   "execution_count": null,
   "id": "continuing-mount",
   "metadata": {},
   "outputs": [],
   "source": [
    "%%R\n",
    "dat %>%  \n",
    "  group_by(HR) %>%\n",
    "  do(slope = get_slope(.))"
   ]
  },
  {
   "cell_type": "markdown",
   "id": "casual-paintball",
   "metadata": {},
   "source": [
    "This is not very useful, so let's cover one last feature of `do`. If the data frame being returned has more than one row, these will be concatenated appropriately. Here is an example in which we return both estimated parameters:"
   ]
  },
  {
   "cell_type": "code",
   "execution_count": null,
   "id": "conceptual-delight",
   "metadata": {},
   "outputs": [],
   "source": [
    "%%R\n",
    "get_lse <- function(data){\n",
    "  fit <- lm(R ~ BB, data = data)\n",
    "  data.frame(term = names(fit$coefficients),\n",
    "    slope = fit$coefficients, \n",
    "    se = summary(fit)$coefficient[,2])\n",
    "}\n",
    "\n",
    "dat %>%  \n",
    "  group_by(HR) %>%\n",
    "  do(get_lse(.))"
   ]
  },
  {
   "cell_type": "markdown",
   "id": "biblical-victoria",
   "metadata": {},
   "source": [
    "If you think this is all a bit too complicated, you are not alone. To simplify things, we introduce the __broom__ package which was designed to facilitate the use of model fitting functions, such as `lm`, with the __tidyverse__.\n",
    "\n",
    "### The broom package\n",
    "\n",
    "Our original task was to provide an estimate and confidence interval for the slope estimates of each strata. The __broom__ package will make this quite easy.\n",
    "\n",
    "The __broom__ package has three main functions, all of which extract information from the object returned by `lm` and return it in a __tidyverse__ friendly data frame. These functions are `tidy`, `glance`, and `augment`. The `tidy` function returns estimates and related information as a data frame:"
   ]
  },
  {
   "cell_type": "code",
   "execution_count": null,
   "id": "everyday-radar",
   "metadata": {},
   "outputs": [],
   "source": [
    "%%R\n",
    "library(broom)\n",
    "fit <- lm(R ~ BB, data = dat)\n",
    "tidy(fit)"
   ]
  },
  {
   "cell_type": "markdown",
   "id": "combined-thesis",
   "metadata": {},
   "source": [
    "We can add other important summaries, such as confidence intervals:"
   ]
  },
  {
   "cell_type": "code",
   "execution_count": null,
   "id": "selected-huntington",
   "metadata": {},
   "outputs": [],
   "source": [
    "%%R\n",
    "tidy(fit, conf.int = TRUE)"
   ]
  },
  {
   "cell_type": "markdown",
   "id": "serial-remainder",
   "metadata": {},
   "source": [
    "Because the outcome is a data frame, we can immediately use it with `do` to string together the commands that produce the table we are after. Because a data frame is returned, we can filter and select the rows and columns we want, which facilitates working with __ggplot2__:"
   ]
  },
  {
   "cell_type": "code",
   "execution_count": null,
   "id": "accomplished-fighter",
   "metadata": {},
   "outputs": [],
   "source": [
    "%%R\n",
    "dat %>%  \n",
    "  group_by(HR) %>%\n",
    "  do(tidy(lm(R ~ BB, data = .), conf.int = TRUE)) %>%\n",
    "  filter(term == \"BB\") %>%\n",
    "  select(HR, estimate, conf.low, conf.high) %>%\n",
    "  ggplot(aes(HR, y = estimate, ymin = conf.low, ymax = conf.high)) +\n",
    "  geom_errorbar() +\n",
    "  geom_point()"
   ]
  },
  {
   "cell_type": "markdown",
   "id": "tough-application",
   "metadata": {},
   "source": [
    "Now we return to discussing our original task of determining if slopes changed. The plot we just made, using `do` and `tidy`, shows that the confidence intervals overlap, which provides a nice visual confirmation that our assumption that the slope does not change is safe.\n",
    "\n",
    "The other functions provided by __broom__, `glance`, and `augment`, relate to model-specific and observation-specific outcomes, respectively. Here, we can see the model fit summaries `glance` returns:"
   ]
  },
  {
   "cell_type": "code",
   "execution_count": null,
   "id": "posted-consolidation",
   "metadata": {},
   "outputs": [],
   "source": [
    "%%R\n",
    "glance(fit)"
   ]
  },
  {
   "cell_type": "markdown",
   "id": "aware-sculpture",
   "metadata": {},
   "source": [
    "You can learn more about these summaries in any regression text book. \n",
    "\n",
    "We will see an example of `augment` in the next section.\n",
    "\n",
    "\n",
    "## Exercises \n",
    "\n",
    "\n",
    "1\\. In a previous section, we computed the correlation between mothers and daughters, mothers and sons, fathers and daughters, and fathers and sons, and noticed that the highest correlation is between fathers and sons and the lowest is between mothers and sons. We can compute these correlations using:"
   ]
  },
  {
   "cell_type": "code",
   "execution_count": null,
   "id": "underlying-driver",
   "metadata": {},
   "outputs": [],
   "source": [
    "%%R\n",
    "data(\"GaltonFamilies\")\n",
    "set.seed(1)\n",
    "galton_heights <- GaltonFamilies %>%\n",
    "  group_by(family, gender) %>%\n",
    "  sample_n(1) %>%\n",
    "  ungroup()\n",
    "\n",
    "cors <- galton_heights %>% \n",
    "  gather(parent, parentHeight, father:mother) %>%\n",
    "  mutate(child = ifelse(gender == \"female\", \"daughter\", \"son\")) %>%\n",
    "  unite(pair, c(\"parent\", \"child\")) %>% \n",
    "  group_by(pair) %>%\n",
    "  summarize(cor = cor(parentHeight, childHeight))"
   ]
  },
  {
   "cell_type": "markdown",
   "id": "suited-montreal",
   "metadata": {},
   "source": [
    "Are these differences statistically significant? To answer this, we will compute the slopes of the regression line along with their standard errors. Start by using `lm` and the __broom__ package to compute the slopes LSE and the standard errors.\n",
    "\n",
    "\n",
    "2\\. Repeat the exercise above, but compute a confidence interval as well.\n",
    "\n",
    "   \n",
    "3\\. Plot the confidence intervals and notice that they overlap, which implies that the data is consistent with the inheritance of height being independent of sex.\n",
    "\n",
    "   \n",
    "4\\. Because we are selecting children at random, we can actually do something like a permutation test here. Repeat the computation of correlations 100 times taking a different sample each time. Hint: use similar code to what we used with simulations.\n",
    "\n",
    "5\\. Fit a linear regression model to obtain the effects of BB and HR on Runs (at the team level) in 1971. Use the `tidy` function in the __broom__ package to obtain the results in a data frame."
   ]
  },
  {
   "cell_type": "code",
   "execution_count": null,
   "id": "marine-plaza",
   "metadata": {},
   "outputs": [],
   "source": [
    "\n",
    "6\\. Now let's repeat the above for each year since 1961 and make a plot. Use `do` and the __broom__ package to fit this model for every year since 1961. "
   ]
  },
  {
   "cell_type": "markdown",
   "id": "personal-lingerie",
   "metadata": {},
   "source": [
    "7\\. Use the results of the previous exercise to plot the estimated effects of BB on runs.\n",
    "\n",
    "   \n",
    "8\\. __Advanced__. Write a function that takes R, HR, and BB as arguments and fits two linear models: **r ~ BB** and **r~BB+HR**. Then use the `do` function to obtain the `BB` for both models for each year since 1961. Then plot these against each other as a function of time.\n",
    "\n",
    "\n",
    "## Case study: Moneyball (continued)\n",
    "\n",
    "In trying to answer how well BBs predict runs, data exploration led us to a model:\n",
    "\n",
    "$$\n",
    "\\mbox{E}[R \\mid BB = x_1, HR = x_2] = \\beta_0 + \\beta_1 x_1 + \\beta_2 x_2\n",
    "$$\n",
    "\n",
    "Here, the data is approximately normal and conditional distributions were also normal. Thus, we are justified in using a linear model:\n",
    "\n",
    "$$\n",
    "Y_i = \\beta_0 + \\beta_1 x_{i,1} + \\beta_2 x_{i,2} + \\varepsilon_i\n",
    "$$\n",
    "\n",
    "with $Y_i$ runs per game for team $i$, $x_{i,1}$ walks per game, and $x_{i,2}$. To use `lm` here, we need to let the function know we have two predictor variables. So we use the `+` symbol as follows:"
   ]
  },
  {
   "cell_type": "code",
   "execution_count": null,
   "id": "floating-exposure",
   "metadata": {},
   "outputs": [],
   "source": [
    "%%R\n",
    "fit <- Teams %>% \n",
    "  filter(yearID %in% 1961:2001) %>% \n",
    "  mutate(BB = BB/G, HR = HR/G,  R = R/G) %>%  \n",
    "  lm(R ~ BB + HR, data = .)"
   ]
  },
  {
   "cell_type": "markdown",
   "id": "coordinate-particle",
   "metadata": {},
   "source": [
    "We can use `tidy` to see a nice summary:"
   ]
  },
  {
   "cell_type": "code",
   "execution_count": null,
   "id": "diagnostic-sapphire",
   "metadata": {},
   "outputs": [],
   "source": [
    "%%R\n",
    "tidy(fit, conf.int = TRUE) "
   ]
  },
  {
   "cell_type": "markdown",
   "id": "behavioral-yield",
   "metadata": {},
   "source": [
    "When we fit the model with only one variable, the estimated slopes were **r bb_slope** and **r hr_slope** for BB and HR, respectively. Note that when fitting the multivariate model both go down, with the BB effect decreasing much more. \n",
    "\n",
    "Now we want to construct a metric to pick players, we need to consider singles, doubles, and triples as well. Can we build a model that predicts runs based on all these outcomes? \n",
    "\n",
    "We now are going to take somewhat of a \"leap of faith\" and assume that these five variables are jointly normal. This means that if we pick any one of them, and hold the other four fixed, the relationship with the outcome is linear and the slope does not depend on the four values held constant. If this is true, then a linear model for our data is:\n",
    "\n",
    "$$\n",
    "Y_i = \\beta_0 + \\beta_1 x_{i,1} + \\beta_2 x_{i,2} + \\beta_3 x_{i,3}+ \\beta_4 x_{i,4} + \\beta_5 x_{i,5} + \\varepsilon_i\n",
    "$$\n",
    "\n",
    "with $x_{i,1}, x_{i,2}, x_{i,3}, x_{i,4}, x_{i,5}$ representing BB, singles, doubles, triples, and HR respectively. \n",
    "\n",
    "Using **lm**, we can quickly find the LSE for the parameters using:"
   ]
  },
  {
   "cell_type": "code",
   "execution_count": null,
   "id": "modified-people",
   "metadata": {},
   "outputs": [],
   "source": [
    "%%R\n",
    "fit <- Teams %>% \n",
    "  filter(yearID %in% 1961:2001) %>% \n",
    "  mutate(BB = BB / G, \n",
    "         singles = (H - X2B - X3B - HR) / G, \n",
    "         doubles = X2B / G, \n",
    "         triples = X3B / G, \n",
    "         HR = HR / G,\n",
    "         R = R / G) %>%  \n",
    "  lm(R ~ BB + singles + doubles + triples + HR, data = .)"
   ]
  },
  {
   "cell_type": "markdown",
   "id": "sporting-lottery",
   "metadata": {},
   "source": [
    "We can see the coefficients using **tidy**:"
   ]
  },
  {
   "cell_type": "code",
   "execution_count": null,
   "id": "amber-sweet",
   "metadata": {},
   "outputs": [],
   "source": [
    "%%R\n",
    "coefs <- tidy(fit, conf.int = TRUE)\n",
    "\n",
    "coefs"
   ]
  },
  {
   "cell_type": "markdown",
   "id": "realistic-snowboard",
   "metadata": {},
   "source": [
    "To see how well our metric actually predicts runs, we can predict the number of runs for each team in 2002 using the function **predict**, then make a plot:"
   ]
  },
  {
   "cell_type": "code",
   "execution_count": null,
   "id": "religious-beijing",
   "metadata": {},
   "outputs": [],
   "source": [
    "%%R\n",
    "Teams %>% \n",
    "  filter(yearID %in% 2002) %>% \n",
    "  mutate(BB = BB/G, \n",
    "         singles = (H-X2B-X3B-HR)/G, \n",
    "         doubles = X2B/G, \n",
    "         triples =X3B/G, \n",
    "         HR=HR/G,\n",
    "         R=R/G)  %>% \n",
    "  mutate(R_hat = predict(fit, newdata = .)) %>%\n",
    "  ggplot(aes(R_hat, R, label = teamID)) + \n",
    "  geom_point() +\n",
    "  geom_text(nudge_x=0.1, cex = 2) + \n",
    "  geom_abline()"
   ]
  }
 ],
 "metadata": {},
 "nbformat": 4,
 "nbformat_minor": 5
}
